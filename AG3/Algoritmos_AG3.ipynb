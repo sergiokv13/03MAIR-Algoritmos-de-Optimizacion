{
  "nbformat": 4,
  "nbformat_minor": 0,
  "metadata": {
    "colab": {
      "name": "Algoritmos-AG3.ipynb",
      "provenance": [],
      "collapsed_sections": [],
      "authorship_tag": "ABX9TyP1QWLpTbXniImhlDqgVqZI",
      "include_colab_link": true
    },
    "kernelspec": {
      "name": "python3",
      "display_name": "Python 3"
    }
  },
  "cells": [
    {
      "cell_type": "markdown",
      "metadata": {
        "id": "view-in-github",
        "colab_type": "text"
      },
      "source": [
        "<a href=\"https://colab.research.google.com/github/sergiokv13/03MAIR-Algoritmos-de-Optimizacion/blob/master/AG3/Algoritmos_AG3.ipynb\" target=\"_parent\"><img src=\"https://colab.research.google.com/assets/colab-badge.svg\" alt=\"Open In Colab\"/></a>"
      ]
    },
    {
      "cell_type": "markdown",
      "metadata": {
        "id": "7karFrVFt-51"
      },
      "source": [
        "# Algoritmos de Optimizacion - Actividad Guiada 3\n",
        "\n",
        "<strong>Nombre:</strong> Sergio Andres Köller Vargas <br>\n",
        "<strong>URL:</strong> https://colab.research.google.com/drive/1eHMpvkb9uojd5-0ITsIfQkHz_sgDMpdh?usp=sharing <br>\n",
        "<strong>Github:</strong> https://github.com/sergiokv13/03MAIR-Algoritmos-de-Optimizacion/blob/master/AG3/Algoritmos_AG3.ipynb"
      ]
    },
    {
      "cell_type": "code",
      "metadata": {
        "colab": {
          "base_uri": "https://localhost:8080/"
        },
        "id": "AWdMXp95uLf_",
        "outputId": "a65d3b31-eea7-484a-ba13-93fb499909f3"
      },
      "source": [
        "!pip install requests\n",
        "!pip install tsplib95"
      ],
      "execution_count": null,
      "outputs": [
        {
          "output_type": "stream",
          "text": [
            "Requirement already satisfied: requests in /usr/local/lib/python3.6/dist-packages (2.23.0)\n",
            "Requirement already satisfied: urllib3!=1.25.0,!=1.25.1,<1.26,>=1.21.1 in /usr/local/lib/python3.6/dist-packages (from requests) (1.24.3)\n",
            "Requirement already satisfied: chardet<4,>=3.0.2 in /usr/local/lib/python3.6/dist-packages (from requests) (3.0.4)\n",
            "Requirement already satisfied: idna<3,>=2.5 in /usr/local/lib/python3.6/dist-packages (from requests) (2.10)\n",
            "Requirement already satisfied: certifi>=2017.4.17 in /usr/local/lib/python3.6/dist-packages (from requests) (2020.12.5)\n",
            "Requirement already satisfied: tsplib95 in /usr/local/lib/python3.6/dist-packages (0.7.1)\n",
            "Requirement already satisfied: networkx~=2.1 in /usr/local/lib/python3.6/dist-packages (from tsplib95) (2.5)\n",
            "Requirement already satisfied: Click>=6.0 in /usr/local/lib/python3.6/dist-packages (from tsplib95) (7.1.2)\n",
            "Requirement already satisfied: tabulate~=0.8.7 in /usr/local/lib/python3.6/dist-packages (from tsplib95) (0.8.7)\n",
            "Requirement already satisfied: Deprecated~=1.2.9 in /usr/local/lib/python3.6/dist-packages (from tsplib95) (1.2.11)\n",
            "Requirement already satisfied: decorator>=4.3.0 in /usr/local/lib/python3.6/dist-packages (from networkx~=2.1->tsplib95) (4.4.2)\n",
            "Requirement already satisfied: wrapt<2,>=1.10 in /usr/local/lib/python3.6/dist-packages (from Deprecated~=1.2.9->tsplib95) (1.12.1)\n"
          ],
          "name": "stdout"
        }
      ]
    },
    {
      "cell_type": "code",
      "metadata": {
        "id": "3I5iAQVtvk6X"
      },
      "source": [
        "import tsplib95\n",
        "import random\n",
        "from math import e\n",
        "import math\n",
        "import copy"
      ],
      "execution_count": null,
      "outputs": []
    },
    {
      "cell_type": "code",
      "metadata": {
        "colab": {
          "base_uri": "https://localhost:8080/"
        },
        "id": "SWh_d5sZwJMT",
        "outputId": "33d0450d-3b8c-41be-a0d0-0361cf5ae626"
      },
      "source": [
        "import urllib.request\n",
        "file = \"swiss42.tsp\"\n",
        "urllib.request.urlretrieve(f\"http://elib.zib.de/pub/mp-testdata/tsp/tsplib/tsp/{file}\", file)"
      ],
      "execution_count": null,
      "outputs": [
        {
          "output_type": "execute_result",
          "data": {
            "text/plain": [
              "('swiss42.tsp', <http.client.HTTPMessage at 0x7f6f6c96d588>)"
            ]
          },
          "metadata": {
            "tags": []
          },
          "execution_count": 8
        }
      ]
    },
    {
      "cell_type": "code",
      "metadata": {
        "id": "scU61XU2zWDs"
      },
      "source": [
        "# Carga de datos y generación de objeto problem\n",
        "\n",
        "problem = tsplib95.load(file)\n",
        "\n",
        "# Nodos\n",
        "nodos = list(problem.get_nodes())\n",
        "\n",
        "# Aristas\n",
        "aristas = list(problem.get_edges())"
      ],
      "execution_count": null,
      "outputs": []
    },
    {
      "cell_type": "code",
      "metadata": {
        "colab": {
          "base_uri": "https://localhost:8080/"
        },
        "id": "T21uLOjd03A7",
        "outputId": "60a79be1-957d-412c-cae8-608af850fc00"
      },
      "source": [
        "# Probamos algunas funciones\n",
        "\n",
        "# Distancia entre nodos\n",
        "problem.get_weight(0,1)"
      ],
      "execution_count": null,
      "outputs": [
        {
          "output_type": "execute_result",
          "data": {
            "text/plain": [
              "15"
            ]
          },
          "metadata": {
            "tags": []
          },
          "execution_count": 10
        }
      ]
    },
    {
      "cell_type": "code",
      "metadata": {
        "id": "zOoZQNZh2dIB"
      },
      "source": [
        "# Formato de solución:\n",
        "\n",
        "# El primer elemento siempre sera 0, seguido de las ciudades siguientes\n",
        "# solucion = [0,1,2,3,...,41]"
      ],
      "execution_count": null,
      "outputs": []
    },
    {
      "cell_type": "code",
      "metadata": {
        "id": "rVlhtSYj1EfE"
      },
      "source": [
        "# Funciones basicas\n",
        "\n",
        "# Generar una solución aleatoria que comience en el nodo 0\n",
        "def crear_solucion(nodos):\n",
        "  solucion = [nodos[0]]\n",
        "  for n in nodos[1:]:\n",
        "    solucion = solucion + [random.choice(list(set(nodos) - set(solucion)))]\n",
        "  return solucion\n",
        "\n",
        "# Devuelve la distancia entre dos nodos\n",
        "def distancia(a, b, problem):\n",
        "  return problem.get_weight(a,b)\n",
        "\n",
        "# Devuelve la distancia total de una trayectoria/solución\n",
        "def distancia_total(solucion, problem):\n",
        "  distancia_total = 0\n",
        "  for i in range(len(solucion) - 1):\n",
        "    distancia_total += distancia(solucion[i], solucion[i+1], problem)\n",
        "    # Vuelva al nodo inicial\n",
        "  return distancia_total + distancia(solucion[len(solucion)-1], solucion[0], problem)"
      ],
      "execution_count": null,
      "outputs": []
    },
    {
      "cell_type": "markdown",
      "metadata": {
        "id": "xXEv764v48YY"
      },
      "source": [
        "### Busqueda Aleatoria"
      ]
    },
    {
      "cell_type": "code",
      "metadata": {
        "colab": {
          "base_uri": "https://localhost:8080/"
        },
        "id": "1Na6VW2G1WiQ",
        "outputId": "b55a5987-ff2f-4a8c-f652-747fb234ab47"
      },
      "source": [
        "def busqueda_aleatoria(problem, max_iter): \n",
        "  nodos = list(problem.get_nodes())\n",
        "  mejor_solucion = []\n",
        "  mejor_distancia = 10e100\n",
        "\n",
        "  for _i in range(max_iter):\n",
        "    solucion = crear_solucion(nodos)\n",
        "    distancia = distancia_total(solucion, problem)\n",
        "\n",
        "    if distancia < mejor_distancia:\n",
        "      mejor_solucion = solucion\n",
        "      mejor_distancia = distancia\n",
        "\n",
        "  print(\"Mejor solución: \", mejor_solucion)\n",
        "  print(\"Distancia     :\", mejor_distancia)\n",
        "  return mejor_solucion\n",
        "\n",
        "sol = busqueda_aleatoria(problem, 10000)\n",
        "    "
      ],
      "execution_count": null,
      "outputs": [
        {
          "output_type": "stream",
          "text": [
            "Mejor solución:  [0, 12, 11, 32, 30, 1, 7, 35, 13, 14, 15, 4, 20, 38, 8, 23, 34, 37, 5, 36, 17, 33, 2, 10, 22, 6, 3, 21, 40, 29, 27, 18, 41, 25, 9, 39, 24, 16, 26, 28, 31, 19]\n",
            "Distancia     : 3763\n"
          ],
          "name": "stdout"
        }
      ]
    },
    {
      "cell_type": "markdown",
      "metadata": {
        "id": "x4SESS-K9QQI"
      },
      "source": [
        "### Busqueda Local"
      ]
    },
    {
      "cell_type": "code",
      "metadata": {
        "colab": {
          "base_uri": "https://localhost:8080/"
        },
        "id": "65YYplfD1-bD",
        "outputId": "42f43525-7235-47d1-e77d-6324357b297a"
      },
      "source": [
        "def genera_vecina(solucion):\n",
        "  mejor_solucion = []\n",
        "  mejor_distancia = 10e100\n",
        "\n",
        "  for i in range(1,len(solucion)-1):\n",
        "    for j in range(i+1, len(solucion)):\n",
        "      # Generaremos vecinos intercambiando dos nodos i,j\n",
        "      vecina = solucion[:i] + [solucion[j]] + solucion[i+1:j] + [solucion[i]] + solucion[j+1:]\n",
        "      # Se evalua la nueva solución\n",
        "      distancia_vecina = distancia_total(vecina, problem)\n",
        "\n",
        "      # ... para guardarla si mejora las anteriores\n",
        "      if distancia_vecina <= mejor_distancia:\n",
        "        mejor_distancia = distancia_vecina\n",
        "        mejor_solucion = vecina\n",
        "\n",
        "  return mejor_solucion\n",
        "\n",
        "solucion = [0, 4, 36, 17, 2, 40, 9, 12, 13, 19, 11, 8, 18, 25, 28, 30, 3, 35, 21, 39, 29, 33, 32, 26, 5, 16, 10, 38, 34, 24, 22, 41, 23, 7, 20, 14, 37, 15, 31, 1, 6, 27]\n",
        "print(\"Distancia solución inicial: \", distancia_total(solucion, problem))\n",
        "nueva_solucion = genera_vecina(solucion)\n",
        "print(\"Distancia mejor solución vecina: \", distancia_total(nueva_solucion, problem))\n"
      ],
      "execution_count": null,
      "outputs": [
        {
          "output_type": "stream",
          "text": [
            "Distancia solución inicial:  3537\n",
            "Distancia mejor solución vecina:  3252\n"
          ],
          "name": "stdout"
        }
      ]
    },
    {
      "cell_type": "code",
      "metadata": {
        "colab": {
          "base_uri": "https://localhost:8080/"
        },
        "id": "ap-3Jr5P_hO0",
        "outputId": "3c90affb-12ea-4c47-cb4e-3b7730a1d47f"
      },
      "source": [
        "# Algoritmo de busqueda local\n",
        "def busqueda_local(problem, solucion_inicial = crear_solucion(nodos)): \n",
        "  mejor_solucion = solucion_inicial\n",
        "  mejor_distancia = distancia_total(mejor_solucion, problem)\n",
        "\n",
        "  iteracion = 0\n",
        "  while(True):\n",
        "    iteracion += 1\n",
        "    vecina = genera_vecina(mejor_solucion)\n",
        "    distancia_vecina = distancia_total(vecina, problem)\n",
        "\n",
        "    if distancia_vecina < mejor_distancia:\n",
        "      mejor_distancia = distancia_vecina\n",
        "      mejor_solucion = copy.deepcopy(vecina)\n",
        "    else:\n",
        "      return mejor_solucion\n",
        "\n",
        "sol = busqueda_local(problem)\n",
        "print(\"Mejor solución: \", sol)\n",
        "print(\"Distancia     :\", distancia_total(sol, problem))\n"
      ],
      "execution_count": null,
      "outputs": [
        {
          "output_type": "stream",
          "text": [
            "Mejor solución:  [0, 31, 20, 33, 34, 32, 28, 30, 38, 22, 39, 21, 9, 25, 11, 10, 8, 23, 41, 12, 18, 26, 37, 17, 35, 36, 15, 16, 14, 7, 1, 27, 2, 29, 24, 40, 13, 19, 5, 6, 4, 3]\n",
            "Distancia     : 1889\n"
          ],
          "name": "stdout"
        }
      ]
    },
    {
      "cell_type": "markdown",
      "metadata": {
        "id": "oVnr5FqOGW4B"
      },
      "source": [
        "### Recocido simulado"
      ]
    },
    {
      "cell_type": "code",
      "metadata": {
        "id": "tOBrNM7lBLpL"
      },
      "source": [
        "# Generador de 1 solucion vecina aleatoria (intercambiar 2 nodos) \n",
        "def genera_vecina_aleatorio(solucion):\n",
        "  # Se eligen dos nodos aleatoriamente\n",
        "  i, j = sorted(random.sample(range(1, len(solucion)), 2))\n",
        "\n",
        "  # Devuelve una nueva solución pero intercambiando los dos nodos elegidos al azar\n",
        "  return solucion[:i] + [solucion[j]] + solucion[i+1:j] + [solucion[i]] + solucion[j+1:]"
      ],
      "execution_count": null,
      "outputs": []
    },
    {
      "cell_type": "code",
      "metadata": {
        "id": "XNqpiJUAHuEs"
      },
      "source": [
        "# Funcion de probabilidad para aceptar peores soluciones\n",
        "def probabilidad(t, d):\n",
        "  return random.random() < math.exp(-1*d / t)\n",
        "\n",
        "# Funcion de descenso de temperatura\n",
        "def bajar_temperatura(t):\n",
        "  return t*0.99"
      ],
      "execution_count": null,
      "outputs": []
    },
    {
      "cell_type": "code",
      "metadata": {
        "colab": {
          "base_uri": "https://localhost:8080/"
        },
        "id": "A83H5jahID4k",
        "outputId": "39a8bbd3-8a3c-4fdb-cf5f-975d2bf2343e"
      },
      "source": [
        "def recocido_simulado(problem, temperatura, solucion_inicial = crear_solucion(nodos), genera_vecina_aleatorio=genera_vecina_aleatorio):\n",
        "  solucion_referencia = solucion_inicial\n",
        "  distancia_referencia = distancia_total(solucion_referencia, problem)\n",
        "\n",
        "  mejor_solucion = []\n",
        "  mejor_distancia = 10e100\n",
        "\n",
        "  while(temperatura > .1):\n",
        "    # Generar solucion vecina aleatoria\n",
        "    vecina = genera_vecina_aleatorio(solucion_referencia)\n",
        "    distancia_vecina = distancia_total(vecina, problem)\n",
        "\n",
        "    # Si es la mejor solucion se guarda\n",
        "    if distancia_vecina < mejor_distancia:\n",
        "      mejor_solucion = vecina\n",
        "      mejor_distancia = distancia_vecina\n",
        "\n",
        "    # Si la nueva vecina es mejor, se cambia\n",
        "    # Si es peor se cambia segun prob de t y delta (dist_ref - dist_vec)\n",
        "    if distancia_vecina < distancia_referencia or probabilidad(temperatura, abs(distancia_referencia - distancia_vecina)):\n",
        "      solucion_referencia = copy.deepcopy(vecina)\n",
        "      distancia_referencia = distancia_vecina\n",
        "\n",
        "    temperatura = bajar_temperatura(temperatura)\n",
        "  return mejor_solucion\n",
        "\n",
        "sol = recocido_simulado(problem, 10000)  \n",
        "\n",
        "print(\"Mejor solución: \", sol)\n",
        "print(\"Distancia     :\", distancia_total(sol, problem))"
      ],
      "execution_count": null,
      "outputs": [
        {
          "output_type": "stream",
          "text": [
            "Mejor solución:  [0, 6, 7, 1, 23, 21, 39, 40, 24, 22, 38, 3, 5, 14, 15, 16, 37, 20, 33, 36, 31, 17, 19, 25, 9, 8, 29, 32, 35, 34, 30, 27, 2, 13, 26, 18, 28, 10, 41, 11, 12, 4]\n",
            "Distancia     : 2446\n"
          ],
          "name": "stdout"
        }
      ]
    },
    {
      "cell_type": "markdown",
      "metadata": {
        "id": "tUFWcczkUNoD"
      },
      "source": [
        "### Mejoras\n",
        "\n",
        "** Notar que se editarón los metodos de busqueda local y de recocido simulado para recibir una función de vecindad y un nodo inicial.\n",
        "\n",
        "#### Busqueda local con Entornos Variables\n",
        "\n",
        "http://www.cs.us.es/~fsancho/?e=208"
      ]
    },
    {
      "cell_type": "code",
      "metadata": {
        "id": "QYSIFFNcUM0b"
      },
      "source": [
        "# Generaremos el vecino a partir de una busqueda local normal (monótona)\n",
        "# en caso de que esta nueva solucion no mejore la actual, entonces generaremos una nueva solucíon aleatoria\n",
        "# para variar el entorno\n",
        "\n",
        "# max_changes controla cuantos cambios de entorno aleatorios permitiremos\n",
        "\n",
        "# VNS\n",
        "def generar_vecina_mejorado_local(solucion, max_changes):\n",
        "  nueva_solucion = busqueda_local(problem, solucion)\n",
        "  if (distancia_total(nueva_solucion, problem) < distancia_total(solucion, problem)):\n",
        "    return nueva_solucion, max_changes\n",
        "  elif max_changes > 0: # Cambiamos de entorno buscando una mejor solución\n",
        "    while(max_changes):\n",
        "      nueva_solucion = busqueda_local(problem, crear_solucion(nodos))\n",
        "      max_changes -= 1\n",
        "      if (distancia_total(nueva_solucion, problem) < distancia_total(solucion, problem)):\n",
        "        return nueva_solucion, max_changes\n",
        "  return solucion, 0"
      ],
      "execution_count": null,
      "outputs": []
    },
    {
      "cell_type": "code",
      "metadata": {
        "id": "A7KXDrbtiaSt"
      },
      "source": [
        "# Generamos un nuevo algoritmo de busqueda local mejorado\n",
        "# max changes hara un control de cuantos cambios de entorno vamos a permitir para no quedarnos en un loop infinito\n",
        "def busqueda_local_vns(problem, solucion_inicial = crear_solucion(nodos), max_changes = 100): \n",
        "  mejor_solucion = solucion_inicial\n",
        "  mejor_distancia = distancia_total(mejor_solucion, problem)\n",
        "\n",
        "  iteracion = 0\n",
        "  while(True):\n",
        "    iteracion += 1\n",
        "    vecina, max_changes = generar_vecina_mejorado_local(mejor_solucion, max_changes)\n",
        "    distancia_vecina = distancia_total(vecina, problem)\n",
        "\n",
        "    if distancia_vecina < mejor_distancia:\n",
        "      mejor_distancia = distancia_vecina\n",
        "      mejor_solucion = copy.deepcopy(vecina)\n",
        "    else:\n",
        "      return mejor_solucion\n"
      ],
      "execution_count": null,
      "outputs": []
    },
    {
      "cell_type": "code",
      "metadata": {
        "colab": {
          "base_uri": "https://localhost:8080/"
        },
        "id": "LTfT8ic1Jiyy",
        "outputId": "52392ad3-7280-4cfb-a722-fff387b151b8"
      },
      "source": [
        "solucion_inicial = crear_solucion(nodos)\n",
        "# Notar que estamos iniciando con la misma solucion inicial para que la \n",
        "# comparativa haga mas sentido\n",
        "print(\"Con la busqueda local hecha en clase: \")\n",
        "sol = busqueda_local(problem, solucion_inicial)\n",
        "print(\"Mejor solución: \", sol)\n",
        "print(\"Distancia     :\", distancia_total(sol, problem))\n",
        "print()\n",
        "print(\"Con entornos variables:\")\n",
        "sol = busqueda_local_vns(problem, solucion_inicial, 100) \n",
        "print(\"Mejor solución: \", sol)\n",
        "print(\"Distancia     :\", distancia_total(sol, problem))"
      ],
      "execution_count": null,
      "outputs": [
        {
          "output_type": "stream",
          "text": [
            "Con la busqueda local hecha en clase: \n",
            "Mejor solución:  [0, 18, 10, 29, 30, 32, 17, 37, 15, 16, 14, 24, 40, 23, 41, 25, 11, 12, 13, 19, 7, 34, 33, 20, 35, 36, 31, 38, 22, 39, 21, 9, 8, 28, 27, 2, 4, 26, 5, 6, 3, 1]\n",
            "Distancia     : 1941\n",
            "\n",
            "Con entornos variables:\n",
            "Mejor solución:  [0, 1, 10, 41, 9, 8, 29, 38, 22, 39, 21, 24, 40, 23, 25, 11, 12, 18, 4, 3, 27, 2, 28, 30, 34, 33, 20, 32, 7, 31, 35, 36, 17, 37, 15, 16, 14, 19, 13, 5, 26, 6]\n",
            "Distancia     : 1523\n"
          ],
          "name": "stdout"
        }
      ]
    },
    {
      "cell_type": "markdown",
      "metadata": {
        "id": "5nKGK1dBUgPe"
      },
      "source": [
        "#### Recocido simulado con vecindad no tan aleatoria"
      ]
    },
    {
      "cell_type": "code",
      "metadata": {
        "colab": {
          "base_uri": "https://localhost:8080/"
        },
        "id": "I3_WlIFNMDSg",
        "outputId": "2ab8e146-24d6-4785-a638-b90ed544cf64"
      },
      "source": [
        "# Buscaremos los mejores 5 vecinos y escogeremos uno aleatorio\n",
        "def generar_vecina_mejorado_sim_ann(solucion):\n",
        "  soluciones = []\n",
        "\n",
        "  for i in range(1,len(solucion)-1):\n",
        "    for j in range(i+1, len(solucion)):\n",
        "      # Generaremos vecinos intercambiando dos nodos i,j\n",
        "      vecina = solucion[:i] + [solucion[j]] + solucion[i+1:j] + [solucion[i]] + solucion[j+1:]\n",
        "      soluciones.append(vecina)\n",
        "\n",
        "  soluciones.sort(key=lambda x: distancia_total(x, problem))\n",
        "  return random.choice(soluciones[:5])\n",
        "\n",
        "print(generar_vecina_mejorado(crear_solucion(nodos)))\n"
      ],
      "execution_count": null,
      "outputs": [
        {
          "output_type": "stream",
          "text": [
            "[0, 7, 17, 6, 22, 3, 20, 35, 5, 28, 12, 37, 8, 41, 32, 39, 1, 34, 2, 24, 29, 36, 33, 19, 25, 9, 40, 18, 11, 16, 31, 38, 10, 27, 14, 4, 30, 23, 13, 15, 26, 21]\n"
          ],
          "name": "stdout"
        }
      ]
    },
    {
      "cell_type": "code",
      "metadata": {
        "colab": {
          "base_uri": "https://localhost:8080/"
        },
        "id": "Zv-3UNNMMG7l",
        "outputId": "d52aadf3-9d09-4d0c-941b-169c9fe9f17b"
      },
      "source": [
        "solucion_inicial = crear_solucion(nodos)\n",
        "# Notar que estamos iniciando con la misma solucion inicial para que la \n",
        "# comparativa haga mas sentido\n",
        "print(\"Con la elección aleatoria: \")\n",
        "sol = recocido_simulado(problem, 10000, solucion_inicial) \n",
        "print(\"Mejor solución: \", sol)\n",
        "print(\"Distancia     :\", distancia_total(sol, problem))\n",
        "print()\n",
        "print(\"Con la elección mejorada: \")\n",
        "sol = recocido_simulado(problem, 10000, solucion_inicial, generar_vecina_mejorado_sim_ann)\n",
        "print(\"Mejor solución: \", sol)\n",
        "print(\"Distancia     :\", distancia_total(sol, problem))\n"
      ],
      "execution_count": 222,
      "outputs": [
        {
          "output_type": "stream",
          "text": [
            "Con la elección aleatoria: \n",
            "Mejor solución:  [0, 6, 2, 28, 27, 30, 21, 40, 24, 39, 29, 17, 31, 32, 4, 37, 14, 15, 16, 5, 26, 12, 9, 23, 41, 8, 1, 36, 35, 20, 33, 7, 19, 13, 3, 34, 38, 22, 10, 25, 11, 18]\n",
            "Distancia     : 2335\n",
            "\n",
            "Con la elección mejorada: \n",
            "Mejor solución:  [0, 26, 18, 12, 10, 9, 21, 40, 24, 39, 33, 35, 36, 17, 31, 32, 27, 2, 28, 29, 8, 23, 41, 25, 11, 13, 19, 14, 16, 15, 37, 20, 34, 38, 22, 30, 3, 4, 6, 5, 7, 1]\n",
            "Distancia     : 1795\n"
          ],
          "name": "stdout"
        }
      ]
    }
  ]
}