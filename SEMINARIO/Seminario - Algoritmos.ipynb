{
  "nbformat": 4,
  "nbformat_minor": 0,
  "metadata": {
    "colab": {
      "name": "Seminario Sergio Köller - Algoritmos.ipynb",
      "provenance": [],
      "collapsed_sections": [],
      "include_colab_link": true
    },
    "kernelspec": {
      "name": "python3",
      "display_name": "Python 3"
    }
  },
  "cells": [
    {
      "cell_type": "markdown",
      "metadata": {
        "id": "view-in-github",
        "colab_type": "text"
      },
      "source": [
        "<a href=\"https://colab.research.google.com/github/sergiokv13/03MAIR-Algoritmos-de-Optimizacion/blob/master/tree/master/SEMINARIOSeminario_Sergio_K%C3%B6ller_Algoritmos.ipynb\" target=\"_parent\"><img src=\"https://colab.research.google.com/assets/colab-badge.svg\" alt=\"Open In Colab\"/></a>"
      ]
    },
    {
      "cell_type": "markdown",
      "metadata": {
        "id": "hVbXYX-RfPWh"
      },
      "source": [
        "# Algoritmos de optimización - Seminario<br>\n",
        "<strong>Nombre y Apellidos:</strong> Sergio Andres Köller Vargas <br>\n",
        "<strong>Url:</strong> https://colab.research.google.com/drive/1NC7__Axzw9pypgs8-xQzfKhnBgATRN49?usp=sharing<br>\n",
        "<strong>Problema:</strong>\n",
        "> 1. Sesiones de doblaje <br>\n",
        "\n",
        "<strong>Descripción del problema:</strong>\n",
        "\n",
        "Se precisa coordinar el doblaje de una película. Los actores del doblaje deben coincidir en las\n",
        "tomas en las que sus personajes aparecen juntos en las diferentes tomas. Los actores de\n",
        "doblaje cobran todos la misma cantidad por cada día que deben desplazarse hasta el estudio\n",
        "de grabación independientemente del número de tomas que se graben. No es posible grabar\n",
        "más de 6 tomas por día. El objetivo es planificar las sesiones por día de manera que el gasto\n",
        "por los servicios de los actores de doblaje sea el menor posible.<br><br>\n",
        "Numero de actores: 10<br>\n",
        "Numero de tomas: 30<br>\n",
        "Actores/Tomas: [Documento](https://bit.ly/36D8IuK)<br>\n",
        "<em>* 1 indica que el actor participa en la toma 0 el caso contrario</em><br><br>\n",
        "\n",
        "\n",
        "\n",
        "                                        "
      ]
    },
    {
      "cell_type": "code",
      "metadata": {
        "id": "KxibXO4uj4Kk"
      },
      "source": [
        "import random\n",
        "import copy\n",
        "import math\n",
        "import itertools \n",
        "from functools import reduce\n",
        "import operator as op"
      ],
      "execution_count": 15,
      "outputs": []
    },
    {
      "cell_type": "markdown",
      "metadata": {
        "id": "3_-exlrTgLd-"
      },
      "source": [
        "## Conteo de Posibilidades\n",
        "### ¿Cuantas posibilidades hay sin tener en cuenta las restricciones?<br>"
      ]
    },
    {
      "cell_type": "markdown",
      "metadata": {
        "id": "WfCUqJyKhPcw"
      },
      "source": [
        "La restricción con la que nos encontramos es que <strong>no es posible realizar mas de 6 tomas al dia.</strong> Las demas \"restricciones\" son peculiaridades del problema, que sin ellas este no tendria un sentido. Es decir, nuestro problema sin restricciones es:\n",
        "\n",
        "Los actores deben coincidir en las tomas en las que sus personajes aparecen juntos (sin esto no seria posible realizar una toma).\n",
        "Los actores cobran lo mismo por día que deban desplazarse independientemente del número de tomas.\n",
        "\n",
        "Nuestras soluciones seran la manera de distribuir nuestras tomas en diferentes días.\n",
        "\n",
        "Tomaremos solo los diás en los que se realiza al menos una toma para realizar nuestro conteo. \n",
        "\n",
        "Por día podriamos realizar desde 1 a 30 tomas (no hay restriccion de 6 tomas por dia y 0 tomas no cuenta como un día valido). No nos importa el orden de las tomas en el día, solo nos importa como dividimos esas tomas entre 1 a 30 días.\n",
        "\n",
        "Ejemplificación:\n",
        "- 30 tomas en dia 1.\n",
        "- 29 tomas en dia 1 y 1 toma en dia 2.\n",
        "- 28 tomas en dia 1 y 2 tomas en dia 2.\n",
        "- 28 tomas en dia 1, 1 toma en dia 2, 1 toma en dia 3\n",
        "...\n",
        "\n",
        "Es decir nuestro problema sera el como escoger x tomas de las que no asignamos aun multiplicado por el como distribuir las x-n tomas restantes. Siendo n las opciones de distribuir las tomas restantes en diferentes días.\n",
        "\n",
        "Esta representación puede ser definida recursivamente.\n",
        "\n",
        "```\n",
        "f(n) = 1 donde n <= 1\n",
        "f(n) = C(n,1) * f(n-1) + C(n,2) * f(n-2) + ... + C(n,n-1) * f(1) + c(n,n) * f(0)\n",
        "```\n",
        "\n",
        "f(0) es igual a 1 para poder contar la opción en la que tomamos todas las tomas en un mismo día.\n",
        "\n",
        "De manera mas elegante:\n",
        "\n",
        "$$ f(n)=  \\left\\{\n",
        "\\begin{array}{ll}\n",
        "      1 & n <= 1 \\\\\n",
        "      \\sum_{x=1}^{n} C\\binom{n}{x}*f(n-x) & n > 1 \\\\\n",
        "\\end{array} \n",
        "\\right. $$ \n",
        "\n",
        "donde n es 30."
      ]
    },
    {
      "cell_type": "code",
      "metadata": {
        "colab": {
          "base_uri": "https://localhost:8080/"
        },
        "id": "rwXah3M58DI2",
        "outputId": "54267755-dddd-4091-fd6c-7e23a07e065a"
      },
      "source": [
        "# Calculamos las posibilidades programaticamente\n",
        "def nCr(n, r):\n",
        "    r = min(r, n-r)\n",
        "    numer = reduce(op.mul, range(n, n-r, -1), 1)\n",
        "    denom = reduce(op.mul, range(1, r+1), 1)\n",
        "    return numer // denom\n",
        "\n",
        "# Haremos uso de programación dinamica para no recalcular\n",
        "posibilities_memo = {}\n",
        "def get_posibilities(n = 30):\n",
        "  if n <= 1: return 1\n",
        "  if n in posibilities_memo: return posibilities_memo[n]\n",
        "\n",
        "  posibilities = 0\n",
        "  for x in range(1, n+1):\n",
        "    posibilities += nCr(n,x) * get_posibilities(n-x)\n",
        "\n",
        "  posibilities_memo[n] = posibilities\n",
        "  return posibilities\n",
        "\n",
        "print(\"El número de posibilidades es: \", get_posibilities())\n"
      ],
      "execution_count": 16,
      "outputs": [
        {
          "output_type": "stream",
          "text": [
            "El número de posibilidades es:  11403568794011880483742464196184901963\n"
          ],
          "name": "stdout"
        }
      ]
    },
    {
      "cell_type": "markdown",
      "metadata": {
        "id": "Y9Bg5nlmMPWi"
      },
      "source": [
        "### ¿Cuantas posibilidades hay teniendo en cuenta todas las restricciones?"
      ]
    },
    {
      "cell_type": "markdown",
      "metadata": {
        "id": "GahQqHRAMdRx"
      },
      "source": [
        "La principal restricción con la que nos encontramos es que <strong>no es posible realizar mas de 6 tomas al día.</strong>. Es decir el objetivo es el de 6 o menos tomas a realizarse en un dia especifico. "
      ]
    },
    {
      "cell_type": "markdown",
      "metadata": {
        "id": "mzXA9I9bcnaK"
      },
      "source": [
        "Agregando la restricción de solo poder <strong>realizar 6 tomas al dia</strong> nuestro espacio de posibilidades se ve reducido. Ahora tenemos la opción de tomar entre 1 a 6 tomas por dia.\n",
        "\n",
        "Al igual que en el anterior punto, definiremos recursivamente.\n",
        "\n",
        "```\n",
        "f(n) = 1 si n = 1\n",
        "```\n",
        "La idea es elegir x tomas en este día multiplicado por todas las maneras en que distribuiremos n-x. Sumamos todas las opciones tomando x desde 1 hasta 6 (maximo número de tomas al día). Para n's menores a 6, solo podremos distribuir desde x hasta n.\n",
        "```\n",
        "f(n) = f(n-1) * C(n,1) + f(n-2) * C(n,2) si n = 2\n",
        "f(n) = f(n-1) * C(n,1) + f(n-2) * C(n,2) + f(n-3) * C(n,3) + f(n-4) si n = 3\n",
        "f(n) = f(n-1) * C(n,1) + f(n-2) * C(n,2) + f(n-3) * C(n,3) + f(n-4) * C(n,4)   si n = 4\n",
        "f(n) = f(n-1) * C(n,1) + f(n-2) * C(n,2) + f(n-3) * C(n,3) + f(n-4) * C(n,4) + f(n-5) * C(n,5)   si n = 5\n",
        "```\n",
        "Para todos los n's mayores, a 6, entonces podemos distribuir de 1 a 6 tomas por día.\n",
        "```\n",
        "f(n) = f(n-1) * C(n,1) + f(n-2) * C(n,2) + f(n-3) * C(n,3) + f(n-4) * C(n,4) + f(n-5) * C(n,5) + f(n-6) * C(n,6) n>= 6\n",
        "```\n",
        "\n",
        "Al igual que en el anterior punto, podemos f(0) como 1 para tomar en cuenta la opción de tomar todas las opciones en un día.\n",
        "\n",
        "De manera mas elegante:\n",
        "\n",
        "$$ f(n)=  \\left\\{\n",
        "\\begin{array}{ll}\n",
        "      1 & n<=1 \\\\\n",
        "      \\sum_{x=1}^{min(n,6)} C\\binom{n}{x}*f(n-x) & n >1 \\\\\n",
        "\\end{array} \n",
        "\\right. $$ \n",
        "\n",
        "donde n es 30.\n",
        "\n"
      ]
    },
    {
      "cell_type": "code",
      "metadata": {
        "colab": {
          "base_uri": "https://localhost:8080/"
        },
        "id": "WqK42C_r-hQz",
        "outputId": "4de67a32-daac-434c-ea76-8e87ad46ba6d"
      },
      "source": [
        "# Calculamos las posibilidades programaticamente\n",
        "\n",
        "# Haremos uso de programación dinamica para no recalcular\n",
        "posibilities_memo_max_6 = {}\n",
        "def get_posibilities_max_6(n=30):\n",
        "  if n <= 1: return 1\n",
        "  if n in posibilities_memo_max_6: return posibilities_memo_max_6[n]\n",
        "\n",
        "  posibilities = 0\n",
        "  for x in range(1, min(n, 6) + 1):\n",
        "    posibilities += get_posibilities_max_6(n-x) * nCr(n, x)\n",
        "\n",
        "  posibilities_memo_max_6[n] = posibilities\n",
        "  return posibilities\n",
        "\n",
        "print(\"El número de posibilidades es: \", get_posibilities_max_6(30))"
      ],
      "execution_count": 17,
      "outputs": [
        {
          "output_type": "stream",
          "text": [
            "El número de posibilidades es:  11400192964820635839099878586991366320\n"
          ],
          "name": "stdout"
        }
      ]
    },
    {
      "cell_type": "markdown",
      "metadata": {
        "id": "dzynfVJahHoY"
      },
      "source": [
        "## Modelo para el espacio de soluciones<br>\n",
        "### ¿Cual es la estructura de datos que mejor se adapta al problema?\n"
      ]
    },
    {
      "cell_type": "markdown",
      "metadata": {
        "id": "xFIJrOwKi2Ti"
      },
      "source": [
        "El problema utilizara las siguientes estructuras para almacenar la información necesaria.\n",
        "\n",
        "<strong>Actores que forman parte de la toma:</strong><br>\n",
        "Se utilizara un array de numeros. El id del array correspondera al id de la toma. Cada numero almacenado en el array representara una cadena binaria en la que el valor del bit x correspondera a la pertinencia del actor x en la toma.\n",
        "\n",
        "Ejemplo para 6 tomas y 3 actores:\n",
        "```\n",
        "     Actores 0  1  2\n",
        "0  4     ->  1  0  0\n",
        "1  4     ->  1  0  0\n",
        "2  2     ->  0  1  0\n",
        "3  1     ->  0  0  1\n",
        "4  4     ->  1  0  0\n",
        "5  3     ->  0  1  1\n",
        "```\n",
        "El uso de un array es eficiente en terminos de memoria vs una matriz, y nos permitira tener un acceso instantaneo a nuestros valores. Por otro lado se decidio hacer uso de manipulación de bits para poder usar operadores sobre bits al momento de calcular nuestra función de coste. Esto nos libra de tener que estar interando sobre cada actor por toma para ver el coste total de un día. <br>\n",
        "\n",
        "<strong>Solución:</strong><br>\n",
        "Para la solución haremos uso de un array de sets. Cada posición del array representara un dia (pese a que este orden no afecte al coste total), mientras que cada valor del array sera un set de tomas (tampoco importa el orden de las tomas).\n",
        "```\n",
        "{{0,1,2},{3,4,5}}\n",
        "{{0},{1},{2,3},{4}}\n",
        "{{0,1,2,3,4}}\n",
        "```\n",
        "El uso de sets nos permite no preocuparnos por el orden de las tomas. Tambien nos permitira hacer uso de funciones de sets sin necesidad de estar haciendo cast, cosa que puede ser muy util para la implementación de nuestro algoritmo genetico. Por ultimo nos asegura el control automatico de no repetir una toma dentro de un mismo dia.\n",
        "\n"
      ]
    },
    {
      "cell_type": "code",
      "metadata": {
        "id": "8J2bt3mvvRac"
      },
      "source": [
        "# Nuestra matriz de pertenencia\n",
        "actors_by_take_matrix = [\n",
        "[1,1,1,1,1,0,0,0,0,0],\n",
        "[0,0,1,1,1,0,0,0,0,0],\n",
        "[0,1,0,0,1,0,1,0,0,0],\n",
        "[1,1,0,0,0,0,1,1,0,0],\n",
        "[0,1,0,1,0,0,0,1,0,0],\n",
        "[1,1,0,1,1,0,0,0,0,0],\n",
        "[1,1,0,1,1,0,0,0,0,0],\n",
        "[1,1,0,0,0,1,0,0,0,0],\n",
        "[1,1,0,1,0,0,0,0,0,0],\n",
        "[1,1,0,0,0,1,0,0,1,0],\n",
        "[1,1,1,0,1,0,0,1,0,0],\n",
        "[1,1,1,1,0,1,0,0,0,0],\n",
        "[1,0,0,1,1,0,0,0,0,0],\n",
        "[1,0,1,0,0,1,0,0,0,0],\n",
        "[1,1,0,0,0,0,1,0,0,0],\n",
        "[0,0,0,1,0,0,0,0,0,1],\n",
        "[1,0,1,0,0,0,0,0,0,0],\n",
        "[0,0,1,0,0,1,0,0,0,0],\n",
        "[1,0,1,0,0,0,0,0,0,0],\n",
        "[1,0,1,1,1,0,0,0,0,0],\n",
        "[0,0,0,0,0,1,0,1,0,0],\n",
        "[1,1,1,1,0,0,0,0,0,0],\n",
        "[1,0,1,0,0,0,0,0,0,0],\n",
        "[0,0,1,0,0,1,0,0,0,0],\n",
        "[1,1,0,1,0,0,0,0,0,1],\n",
        "[1,0,1,0,1,0,0,0,1,0],\n",
        "[0,0,0,1,1,0,0,0,0,0],\n",
        "[1,0,0,1,0,0,0,0,0,0],\n",
        "[1,0,0,0,1,1,0,0,0,0],\n",
        "[1,0,0,1,0,0,0,0,0,0]]\n",
        "\n",
        "# función que nos permitira convertir nuestra matriz en un array de numeros\n",
        "def get_bits_actors(matrix):\n",
        "  converted_arr = []\n",
        "  for row in matrix:\n",
        "    # convertimos el array de bits a un numero\n",
        "    bin_as_number = int(\"\".join(str(i) for i in row),2)\n",
        "    converted_arr.append(bin_as_number)\n",
        "  return converted_arr\n",
        "\n",
        "# ejemplificamos una solucion para los datos\n",
        "example_solution = [{1,2,3,4,5},{6,7,8,9,10},{11,12,13,14,15},{16,17,18,19,20},{21,22,23,24,25},{26,27,28,29,0}]\n",
        "\n",
        "# obtenemos nuestra representación de pertenencia\n",
        "actors_by_take = get_bits_actors(actors_by_take_matrix)"
      ],
      "execution_count": 18,
      "outputs": []
    },
    {
      "cell_type": "markdown",
      "metadata": {
        "id": "7Z9U2W7bi-XS"
      },
      "source": [
        "## Según el modelo para el espacio de soluciones<br>\n",
        "### ¿Cual es la función objetivo?\n",
        "\n",
        "Asignaremos un valor constante de 1 al monto que cada actor cobrara por presentarse a un día de doblaje. Entonces haciendo esto, podemos decir que el costo de cada día es la cantidad de actores necesarios en todas las tomas de dicho día. El coste total sera la suma de los costos diarios.\n",
        "\n",
        "A continuación la implementación de nuestra funcion objetivo."
      ]
    },
    {
      "cell_type": "code",
      "metadata": {
        "colab": {
          "base_uri": "https://localhost:8080/"
        },
        "id": "EGf7B21ixfKq",
        "outputId": "4fe31898-1719-41b6-9c13-59ecae32999f"
      },
      "source": [
        "def cost_function(solution, actors_by_take = actors_by_take):\n",
        "  total_cost = 0\n",
        "  for day in solution:\n",
        "    # almacenamos un número que controle el resultado de ir aplicando el operador | para todos las tomas del día\n",
        "    # https://developer.mozilla.org/en-US/docs/Web/JavaScript/Reference/Operators/Bitwise_OR\n",
        "    # inicializamos el valor en 0000000000, el cual seria el neutro para nuestros 10 actores\n",
        "    day_value = 0\n",
        "    for take in day: \n",
        "      day_value |= actors_by_take[take]\n",
        "    # obtenemos el número de 1's en nuestro valor final, lo cual corresponderia al coste del dia\n",
        "    day_cost = bin(day_value).count(\"1\")\n",
        "    total_cost += day_cost\n",
        "  \n",
        "  return total_cost\n",
        "\n",
        "print(\"Prueba sobre el ejemplo: \", cost_function(example_solution))\n",
        "        "
      ],
      "execution_count": 19,
      "outputs": [
        {
          "output_type": "stream",
          "text": [
            "Prueba sobre el ejemplo:  43\n"
          ],
          "name": "stdout"
        }
      ]
    },
    {
      "cell_type": "markdown",
      "metadata": {
        "id": "khCI5E0SttQR"
      },
      "source": [
        "### ¿Es un problema de maximización o minimización?"
      ]
    },
    {
      "cell_type": "markdown",
      "metadata": {
        "id": "hBalWLM7j1_d"
      },
      "source": [
        "El objetivo es el de minizar la función de coste previamente espeficificada. Entonces es un problema de minimización."
      ]
    },
    {
      "cell_type": "markdown",
      "metadata": {
        "id": "rlnTYgY1j6I2"
      },
      "source": [
        "## Fuerza bruta\n",
        "#### Diseña un algoritmo para resolver el problema por fuerza bruta\n",
        "\n",
        "Al ver el espacio de soluciones, podemos ver que un algoritmo de fuerza bruta (Visitar todas las soluciones) no es una opción. Es por esto que para probar nuestro algoritmo de fuerza bruta de manera que pueda terminar y arrojar una solución, reduciremos el problema.\n",
        "\n",
        "Haremos uso de 3 actores en 6 tomas, con un limite de 3 tomas por dia (Ejemplo presentado en la sección de la estructura de datos).\n",
        "\n",
        "Notar que nuestro algoritmo recibe como parametros los actores y el maximo numero de tomas por día, por lo cual puede ser aplicado tambien para otras situaciones.\n",
        "\n",
        "```\n",
        "     Actores 0  1  2\n",
        "0  4     ->  1  0  0\n",
        "1  4     ->  1  0  0\n",
        "2  2     ->  0  1  0\n",
        "3  1     ->  0  0  1\n",
        "4  4     ->  1  0  0\n",
        "5  3     ->  0  1  1\n",
        "```"
      ]
    },
    {
      "cell_type": "code",
      "metadata": {
        "id": "CJb5sQ0qkENy"
      },
      "source": [
        "def brute_force(\n",
        "    actors_by_take, # nuestro array de ints que representan los actores necesarios por toma\n",
        "    max_takes_on_day # Maximo numero de tomas a realizar por día\n",
        "  ):\n",
        "\n",
        "  brute_force.solutions_count = 0\n",
        "  brute_force.best_solution = []\n",
        "  brute_force.min_cost = float(\"inf\")\n",
        "\n",
        "  def brute_force_rec(\n",
        "      solution=[],  # Almacenara la mejor solución encontrada hasta el momento\n",
        "    ):\n",
        "    \n",
        "    # Las escenas ya tomadas es la union de todos nuestros subsets de la solución\n",
        "    takes_taken = set().union(*solution)\n",
        "\n",
        "    # Si todas nuestras tomas ya fueron asignadas, entonces estamos en una solución\n",
        "    if len(takes_taken) == len(actors_by_take):\n",
        "      brute_force.solutions_count += 1\n",
        "      local_cost = cost_function(solution, actors_by_take)\n",
        "      # Si nuestro coste es menor que el minimo, entonces acabamos de encontrar una mejor solución\n",
        "      if local_cost <= brute_force.min_cost:\n",
        "        brute_force.min_cost = local_cost\n",
        "        brute_force.best_solution = solution\n",
        "\n",
        "    # Nuestras tomas actuales seran todas menos las que ya fueron tomadas\n",
        "    takes = set(range(len(actors_by_take))) - takes_taken\n",
        "\n",
        "    # Podemos armar grupos de 1,2,..,maximo de tomas por dia\n",
        "    for i in range(1, max_takes_on_day+1):\n",
        "      # genereramos todos los subconjuntos de tamaño i\n",
        "      sub_sets = set(itertools.combinations(takes, i))\n",
        "      for sub_set in sub_sets:\n",
        "        # llamamos recursivamente a brute_force con nuestra solucion parcial\n",
        "        brute_force_rec(solution + [sub_set])\n",
        "\n",
        "  # Llamamos a nuestra funcion recursiva y retornamos\n",
        "  brute_force_rec()\n",
        "  print(\"La mejor distribución es: \", brute_force.best_solution)\n",
        "  print(\"Con costo: \", brute_force.min_cost)\n",
        "  print(f\"Se evaluaron {brute_force.solutions_count} soluciones\")"
      ],
      "execution_count": 20,
      "outputs": []
    },
    {
      "cell_type": "code",
      "metadata": {
        "colab": {
          "base_uri": "https://localhost:8080/"
        },
        "id": "eOpQfMHuYTqo",
        "outputId": "e4b74e6c-cb4c-4fd7-ed5d-c8de640dacf0"
      },
      "source": [
        "# Usamos un caso de ejemplo para ver si el algoritmo es efectivo en revisar todas las soluciones\n",
        "# usaremos 6 tomas y un máximo de 6 tomas al día\n",
        "\n",
        "verify_solutions_actors_by_take = [4,4,2,1,4,3]\n",
        "brute_force(verify_solutions_actors_by_take, 6)\n",
        "print(\"El número de posibilidades calculado es: \", get_posibilities_max_6(6))"
      ],
      "execution_count": 21,
      "outputs": [
        {
          "output_type": "stream",
          "text": [
            "La mejor distribución es:  [(0, 1, 2, 3, 4, 5)]\n",
            "Con costo:  3\n",
            "Se evaluaron 4683 soluciones\n",
            "El número de posibilidades calculado es:  4683\n"
          ],
          "name": "stdout"
        }
      ]
    },
    {
      "cell_type": "code",
      "metadata": {
        "colab": {
          "base_uri": "https://localhost:8080/"
        },
        "id": "Pbw61A4vMNMu",
        "outputId": "1f7e1535-10ca-40ec-bddd-769fa11aa4e5"
      },
      "source": [
        "# Probamos nuestra función de fuerza bruta con 6 tomas y 3 actores, y un maximo de 2 tomas por dia.\n",
        "\n",
        "small_actors_by_take = [4,4,2,1,4,3]\n",
        "\n",
        "brute_force(small_actors_by_take, 2)"
      ],
      "execution_count": 22,
      "outputs": [
        {
          "output_type": "stream",
          "text": [
            "La mejor distribución es:  [(3, 5), (0, 2), (1, 4)]\n",
            "Con costo:  5\n",
            "Se evaluaron 3690 soluciones\n"
          ],
          "name": "stdout"
        }
      ]
    },
    {
      "cell_type": "markdown",
      "metadata": {
        "id": "tgrnsC2nkFa8"
      },
      "source": [
        "### Calcula la complejidad del algoritmo\n",
        "\n",
        "Haremos una estimación para hacer el calculo de la complejidad de este algoritmo. Podemos ver que visitaremos el espacio de soluciones en el que tomamos una toma por día a lo largo de n días. Siendo n el número de tomas. Este espacio de soluciones tiene complejidad de n!. Si consideramos nuestro maximo numero de tomas por día como una constante multiplicativa, entonces la complejidad es:\n",
        "\n",
        "\n",
        "```\n",
        "O(n) = n!\n",
        "```\n",
        "\n",
        "Por otro lado si consideramos nuestro máximo número de tomas en nuestra complejidad, entonces tenemos que contar las permutaciones de las formas de armar estos grupos. Siendo m el máximo número de tomas, entonces podremos armar n/m grupos. La complejidad tomando en cuenta m seria:\n",
        "\n",
        "```\n",
        "O(n,m) = n!(n/m)!\n",
        "```\n",
        "\n",
        "\n"
      ]
    },
    {
      "cell_type": "markdown",
      "metadata": {
        "id": "txbrmLmskReM"
      },
      "source": [
        "## Mejora del algoritmo\n",
        "### Diseña un algoritmo que mejore la complejidad del algortimo por fuerza bruta.\n",
        "\n",
        "Haremos uso de un algoritmo genetico. Este podra mejorar el algoritmo de fuerza bruta sin ningún problema, ya que al hacer uso de una heuristica, no sera necesario navegar todo el espacio de soluciones. Haciendo uso de un algoritmo genetico podremos conocer una buena solución (No sabremos si es la mejor) de manera eficiente en tiempo y en memoria, cosa que sería imposible con el algoritmo de fuerza bruta para una dimensionalidad tan grande como lo es 30 tomas. (Ver espacio de soluciones en el primer punto)\n",
        "\n",
        "#### Mutación\n",
        "\n",
        "El cambio producido por la mutación necesita ser pequeño para que esta nos permita la intensificación. Podemos asumir que tomar mas tomas al dia siempre sera mejor que tomarlas por separado. Esto es ya que el tomar mas tomas tendremos entre 0 o mas intersecciones entre los actores necesarios, mientras que tomarlas por separado no tendra la reducción de interseccionalidad. \n",
        "\n",
        "Si nuestro número de tomas es divisible entre el máximo número de tomas, entonces podemos asumir que la solución se encontrara en n grupos, siendo n tomas/maximo_número de tomas. Cosa que no podemos asumir si esta división no es exacta. \n",
        "\n",
        "Queremos que nuestra mutación sea aplicable para cualquiera de estos casos, razón por la que al mutar combinaremos días siempre que esten por debajo del máximo de tomas diarias. Para esto haremos una ordenación de los dias por tamaño de tomas, y agruparemos de manera voraz. Esto permitira que nuestra solución converja siempre en soluciones con elementos agrupados.\n",
        "\n",
        "```\n",
        "Ejemplo mutación 6 tomas y máximo de 6\n",
        "[{1,2},{3,4},{5,6}] => [{1,2,3,4,5,6}]\n",
        "Ejemplo mutación 6 tomas y máximo de 5\n",
        "[{1,2},{3,4},{5,6}] => [{1,2,3,4},{5,6}]\n",
        "Ejemplo mutación 6 tomas y máximo de 5 (diferentes tamaños)\n",
        "[{1},{2,3},{4,5,6}] => [{1,2,3},{4,5,6}]\n",
        "```\n",
        "Despues de agrupar, elegiremos dos dias al azar, los uniremos, y los separaremos al azar en partes iguales (si es posible).\n"
      ]
    },
    {
      "cell_type": "code",
      "metadata": {
        "id": "m1eyM21Vkabg"
      },
      "source": [
        "def mutation(solution, max_takes_on_day):\n",
        "  new_solution = []\n",
        "  # Agrupamos\n",
        "\n",
        "  solution.sort(key=lambda x:len(x))\n",
        "  current_set = set()\n",
        "  for day in solution:\n",
        "    if len(current_set | day) <= max_takes_on_day:\n",
        "      # Agregamos el nuevo set si no excede el tamaño\n",
        "      current_set = current_set | day\n",
        "    else:\n",
        "      if len(current_set) > 0:\n",
        "        # Si agregar el set excede el tamaño, entonces lo consideramos un nuevo dia, y continuamos\n",
        "        new_solution.append(current_set)\n",
        "        current_set = day\n",
        "\n",
        "  # Verificamos si tenemos algo mas que agregar\n",
        "  if len(current_set) > 0: new_solution.append(current_set)\n",
        "  # Elegimos dos sets al azar\n",
        "  elems = random.sample(new_solution, 2)\n",
        "  indexes = [new_solution.index(elems[0]), new_solution.index(elems[1])]\n",
        "  # Unimos los elementos y los barajamos\n",
        "  elems_join = list(set().union(*elems))\n",
        "  random.shuffle(elems_join)\n",
        "  # Dividimos por la mitad\n",
        "  cut_index = len(elems_join) // 2\n",
        "  cuts = [set(elems_join[:cut_index]), set(elems_join[cut_index:])]\n",
        "  new_solution[indexes[0]] = cuts[0]\n",
        "  new_solution[indexes[1]] = cuts[1]\n",
        "\n",
        "  return new_solution"
      ],
      "execution_count": 23,
      "outputs": []
    },
    {
      "cell_type": "code",
      "metadata": {
        "colab": {
          "base_uri": "https://localhost:8080/"
        },
        "id": "Q3_x1wYdYqZ1",
        "outputId": "21b37974-011e-4adc-de7b-912f7d12d56d"
      },
      "source": [
        "# Prueba de nuestra mutación\n",
        "print(\"prev: \", [{1,2},{3},{4,5,6,7},{8,9,10},{11,12,13,14,15},{16,17},{18,19,20},{21},{22},{23},{24,25},{26,27},{28,29,0}])\n",
        "print(\"mutated: \", mutation([{1,2},{3},{4,5,6,7},{8,9,10},{11,12,13,14,15},{16,17},{18,19,20},{21},{22},{23},{24,25},{26,27},{28,29,0}], 6))\n",
        "print()\n",
        "print(\"prev: \", [{1, 2, 23, 28, 29}, {16, 17, 24, 25, 26, 27}, {18, 19, 20, 8, 9, 10}, {0, 3, 21, 22}, {4, 5, 6, 7}, {11, 12, 13, 14, 15}])\n",
        "print(\"mutated: \", mutation([{1, 2, 23, 28, 29}, {16, 17, 24, 25, 26, 27}, {18, 19, 20, 8, 9, 10}, {0, 3, 21, 22}, {4, 5, 6, 7}, {11, 12, 13, 14, 15}], 6))"
      ],
      "execution_count": 24,
      "outputs": [
        {
          "output_type": "stream",
          "text": [
            "prev:  [{1, 2}, {3}, {4, 5, 6, 7}, {8, 9, 10}, {11, 12, 13, 14, 15}, {16, 17}, {18, 19, 20}, {21}, {22}, {23}, {24, 25}, {26, 27}, {0, 28, 29}]\n",
            "mutated:  [{1, 2, 3, 21, 22, 23}, {0, 16, 24, 25, 27}, {18, 19, 20, 8, 9, 10}, {17, 26, 28, 29}, {4, 5, 6, 7}, {11, 12, 13, 14, 15}]\n",
            "\n",
            "prev:  [{1, 2, 23, 28, 29}, {16, 17, 24, 25, 26, 27}, {8, 9, 10, 18, 19, 20}, {0, 3, 21, 22}, {4, 5, 6, 7}, {11, 12, 13, 14, 15}]\n",
            "mutated:  [{0, 3, 21, 22}, {4, 28, 6, 7}, {1, 2, 5, 23, 29}, {11, 12, 13, 14, 15}, {16, 17, 24, 25, 26, 27}, {8, 9, 10, 18, 19, 20}]\n"
          ],
          "name": "stdout"
        }
      ]
    },
    {
      "cell_type": "markdown",
      "metadata": {
        "id": "sx2FwcBNo7Ig"
      },
      "source": [
        "#### Generar soluciones aleatorias\n",
        "\n",
        "Necesitamos un metodo que genere soluciones de manera aleatoria, esto nos servira para nuestra población inicial. Para esto vamos a barajear las tomas, y separaremos aleatoriamente en [1,maxima tomas por dia] partes iguales."
      ]
    },
    {
      "cell_type": "code",
      "metadata": {
        "id": "iAHdRKZop2bj"
      },
      "source": [
        "# Dividir una lista en n partes\n",
        "def split(a, n):\n",
        "  k, m = divmod(len(a), n)\n",
        "  return [set(a[i * k + min(i, m):(i + 1) * k + min(i + 1, m)]) for i in range(n)]\n",
        "  \n",
        "# Generar soluciones alteatorias\n",
        "def generate_random_solutions(quantity, number_of_takes, max_takes_on_day):\n",
        "  solutions = []\n",
        "  takes = list(range(number_of_takes))\n",
        "\n",
        "  for i in range(quantity):\n",
        "    random.shuffle(takes)\n",
        "    splits = len(takes) // random.randint(1, max_takes_on_day)\n",
        "    solutions.append(split(takes, splits))\n",
        "\n",
        "  return solutions"
      ],
      "execution_count": 25,
      "outputs": []
    },
    {
      "cell_type": "code",
      "metadata": {
        "colab": {
          "base_uri": "https://localhost:8080/"
        },
        "id": "FC1wqmksuPIt",
        "outputId": "679694cd-a712-41a4-e34c-291502c0ba93"
      },
      "source": [
        "# prueba de nuestra generacion de soluciones\n",
        "test_solutions = generate_random_solutions(5, 30, 6)\n",
        "for sol in test_solutions:\n",
        "  print(sol)"
      ],
      "execution_count": 26,
      "outputs": [
        {
          "output_type": "stream",
          "text": [
            "[{24, 3}, {8, 4}, {27, 5}, {18, 12}, {9, 26}, {10, 6}, {17, 15}, {25, 19}, {28, 13}, {16, 20}, {1, 23}, {2, 7}, {29, 21}, {0, 22}, {11, 14}]\n",
            "[{3, 4, 8, 20, 27}, {2, 10, 21, 24, 25}, {1, 6, 7, 19, 22}, {5, 12, 14, 17, 18}, {0, 9, 15, 16, 28}, {11, 13, 23, 26, 29}]\n",
            "[{1, 27, 29}, {26, 5, 14}, {25, 20, 7}, {9, 17, 6}, {16, 0, 23}, {19, 4, 22}, {8, 11, 28}, {3, 13, 15}, {24, 10, 21}, {18, 2, 12}]\n",
            "[{1, 5, 16, 17, 18, 24}, {0, 2, 7, 8, 13, 22}, {10, 14, 19, 20, 26, 29}, {3, 21, 23, 25, 27, 28}, {4, 6, 9, 11, 12, 15}]\n",
            "[{3, 12, 15, 20, 26}, {6, 10, 11, 18, 21}, {4, 14, 17, 19, 22}, {16, 25, 27, 28, 29}, {0, 2, 7, 9, 13}, {1, 5, 8, 23, 24}]\n"
          ],
          "name": "stdout"
        }
      ]
    },
    {
      "cell_type": "markdown",
      "metadata": {
        "id": "xdvIuJ0CTX-L"
      },
      "source": [
        "#### Selección\n",
        "\n",
        "Para selecciónar nuestro metodo recibira una población, un número de individuos que sobreviviran y un porcentaje de elitismo. Seleccionaremos las mejores en base a nuestro porcentaje de elitismo, y completaremos la población que sobrevive con individuos alteatorios"
      ]
    },
    {
      "cell_type": "code",
      "metadata": {
        "id": "4CJXh7LhTc10"
      },
      "source": [
        "def selection(solutions, surviving_number, elite_percent, cost_function=cost_function):\n",
        "  # Se ordenan las soluciones en base a la funcion de coste\n",
        "  solutions.sort(key=lambda x:cost_function(x))\n",
        "  # Obtenemos nuestra población de elite\n",
        "  elite_count = int(surviving_number * (elite_percent / 100))\n",
        "  elite = solutions[:elite_count]\n",
        "  not_elite = solutions[elite_count:]\n",
        "\n",
        "  #Devolvemos la elite mas una selección alteatoria de los demas miembros\n",
        "  return elite  + random.sample(not_elite, surviving_number - elite_count) "
      ],
      "execution_count": 31,
      "outputs": []
    },
    {
      "cell_type": "code",
      "metadata": {
        "colab": {
          "base_uri": "https://localhost:8080/"
        },
        "id": "1_Xsru072gmL",
        "outputId": "dc309e8e-75dc-4ee8-d04d-6612fcc819b9"
      },
      "source": [
        "# Prueba de nuestra selección\n",
        "test_solutions = generate_random_solutions(5, 30, 6)\n",
        "selected_solutions = selection(test_solutions, 2, 80)\n",
        "for sol in selected_solutions:\n",
        "  print(sol)"
      ],
      "execution_count": 32,
      "outputs": [
        {
          "output_type": "stream",
          "text": [
            "[{1, 5, 14, 15, 27}, {0, 3, 17, 25, 29}, {7, 10, 16, 18, 26}, {2, 4, 8, 11, 19}, {6, 9, 12, 20, 22}, {13, 21, 23, 24, 28}]\n",
            "[{16, 3, 5}, {10, 19, 15}, {11, 20, 29}, {1, 6, 22}, {2, 13, 14}, {8, 12, 23}, {4, 21, 7}, {25, 27, 28}, {24, 0, 17}, {9, 26, 18}]\n"
          ],
          "name": "stdout"
        }
      ]
    },
    {
      "cell_type": "markdown",
      "metadata": {
        "id": "ApoGFENOV7Qp"
      },
      "source": [
        "#### Cruce\n",
        "Contaremos con un metodo de cruce, que se encargara de realizar los cruces de nuestra población y de un metodo de descendencia, que se encargara de crear una descendencia para dos soluciones. \n",
        "\n",
        "Para esta descendencia iremos combinando dia por dia respetando el orden. Ya que estamos haciendo uso de sets para representar las tomas a realizarse en el día, podemos estar seguros que esta combinación no nos devolvera repetidos en un mismo día. En caso de que nuestro dia termine con mas tomas de las necesarias, lo barajareemos y dividiremos en dos diferentes dias.\n",
        "\n",
        "Al finalizar esta combinación, verificaremos que no estemos tomando la misma toma en mas de un día, en caso de ser así, la removeremos de la segunda ocurrencia.\n",
        "\n",
        "\n",
        "Por otro lado nuestra función de cruce recibira una población, y devolvera la población ampliada con sus hijos."
      ]
    },
    {
      "cell_type": "code",
      "metadata": {
        "id": "5Adpa3ZgV9Kn"
      },
      "source": [
        "def offspring(solution1, solution2, max_takes_on_day):\n",
        "  offspring_solution = []\n",
        "  ref_idx = min(len(solution1), len(solution2))\n",
        "  for idx in range(ref_idx):\n",
        "    new_day = solution1[idx] | solution2[idx]\n",
        "    if len(new_day) > max_takes_on_day:\n",
        "      # dividimos el set en dos diferentes dias\n",
        "      takes_on_day = list(new_day)\n",
        "      random.shuffle(takes_on_day)\n",
        "      cut_index = len(takes_on_day) // 2\n",
        "      offspring_solution.append(set(takes_on_day[cut_index:]))\n",
        "      offspring_solution.append(set(takes_on_day[:cut_index]))\n",
        "    else:\n",
        "      offspring_solution.append(new_day)\n",
        "  # Si existe un set que tenga mas elementos que ref_idx, entonces los agregamos indistintamente\n",
        "  if len(solution1) > ref_idx:\n",
        "    offspring_solution += solution1[ref_idx:]\n",
        "  if len(solution2) > ref_idx:\n",
        "    offspring_solution += solution2[ref_idx:]\n",
        "\n",
        "  # Removemos las ocurrencias repetidas\n",
        "  visited = set()\n",
        "  for idx, day in enumerate(offspring_solution):\n",
        "    new_day = day.copy()\n",
        "    for take in day:\n",
        "      if take in visited: new_day.remove(take)\n",
        "      else: visited.add(take)\n",
        "    offspring_solution[idx] = new_day\n",
        "  # Quitamos los sets vacios\n",
        "  return [x for x in offspring_solution if x]"
      ],
      "execution_count": 33,
      "outputs": []
    },
    {
      "cell_type": "code",
      "metadata": {
        "colab": {
          "base_uri": "https://localhost:8080/"
        },
        "id": "5VTvmhgddl-2",
        "outputId": "c2c87999-3e83-4e92-a5fd-330d40b3c503"
      },
      "source": [
        "# Prueba de nuestro metodo de descendencia\n",
        "print(offspring([{1,2},{3,4},{5,6}],[{3,5},{1,4},{2,6}], 6))\n",
        "print(offspring([{1,2},{3,4},{5,6}],[{3,5},{1,4},{2,6},{7,8},{9,10}], 6))\n",
        "print(offspring([{1,2},{3,4},{5,6}],[{3,5},{1,4},{2,6},{7,8},{9,10}], 2))"
      ],
      "execution_count": 34,
      "outputs": [
        {
          "output_type": "stream",
          "text": [
            "[{1, 2, 3, 5}, {4}, {6}]\n",
            "[{1, 2, 3, 5}, {4}, {6}, {8, 7}, {9, 10}]\n",
            "[{1, 5}, {2, 3}, {4}, {6}, {8, 7}, {9, 10}]\n"
          ],
          "name": "stdout"
        }
      ]
    },
    {
      "cell_type": "code",
      "metadata": {
        "id": "eIHNdq7gioRN"
      },
      "source": [
        "def cross_over(solutions, max_takes_on_day):\n",
        "  parents = copy.deepcopy(solutions)\n",
        "  new_solutions = solutions\n",
        "\n",
        "  while(len(parents) > 1):\n",
        "    # seleccionamos 2 padres al azar\n",
        "    p1, p2 = random.sample(parents, 2)\n",
        "    new_solutions.append(offspring(p1, p2, max_takes_on_day))\n",
        "    parents.remove(p1)\n",
        "    parents.remove(p2)\n",
        "  \n",
        "  return new_solutions"
      ],
      "execution_count": 36,
      "outputs": []
    },
    {
      "cell_type": "code",
      "metadata": {
        "colab": {
          "base_uri": "https://localhost:8080/"
        },
        "id": "G2G-tqXBjL_g",
        "outputId": "e97b87f4-ec9e-4495-c22b-c17f61372180"
      },
      "source": [
        "# Prueba de nuestro metodo de cruce\n",
        "after_cross_over = cross_over(\n",
        "    generate_random_solutions(4,30 , 6),\n",
        "    6\n",
        ")\n",
        "\n",
        "for sol in after_cross_over:\n",
        "  print(sol)"
      ],
      "execution_count": 38,
      "outputs": [
        {
          "output_type": "stream",
          "text": [
            "[{0, 24, 7}, {10, 11, 13}, {16, 17, 29}, {1, 18, 2}, {3, 4, 12}, {25, 28, 20}, {5, 21, 22}, {26, 27, 23}, {8, 19, 15}, {9, 14, 6}]\n",
            "[{16, 0, 18}, {9, 13, 1}, {27, 3, 5}, {28, 14, 15}, {23, 21, 7}, {8, 19, 6}, {24, 2, 10}, {11, 29, 22}, {25, 12, 17}, {26, 4, 20}]\n",
            "[{2, 11, 13, 20, 26, 28}, {5, 7, 10, 19, 23, 29}, {8, 9, 16, 17, 18, 27}, {0, 1, 14, 15, 24, 25}, {3, 4, 6, 12, 21, 22}]\n",
            "[{10, 11, 14, 16, 18, 21}, {0, 12, 17, 19, 20, 26}, {1, 2, 3, 7, 13, 15}, {6, 23, 24, 25, 27, 29}, {4, 5, 8, 9, 22, 28}]\n",
            "[{16, 20, 26, 28, 13}, {0, 11, 18, 2}, {1, 29, 9, 10}, {19, 7, 5, 23}, {8, 27}, {17, 3}, {25}, {24, 14, 15}, {12, 6}, {4, 21, 22}]\n",
            "[{0, 16, 18, 24, 14}, {10, 11, 21, 7}, {17, 20, 13}, {19, 26, 12}, {2, 3, 29, 15}, {1}, {23, 25}, {27, 6}, {8, 9, 5, 22}, {28, 4}]\n"
          ],
          "name": "stdout"
        }
      ]
    },
    {
      "cell_type": "markdown",
      "metadata": {
        "id": "P6sbT2SDTe3W"
      },
      "source": [
        "#### Algoritmo\n",
        "\n",
        "Haciendo uso de los metodos previamente implementados, implementaremos nuestro algoritmo genetico. Este generará una población inicial de un determinado tamaño, y durante n generaciones, la cruzara, evolucionara y seleccionara los mejores inidividuos. Iremos almacenando el mejor individuo encontrado en todo el proceso."
      ]
    },
    {
      "cell_type": "code",
      "metadata": {
        "id": "f0twCcU3TkdT"
      },
      "source": [
        "def genetic_algo(\n",
        "    actors_by_take, # Input\n",
        "    elite_percent, # Hiperparametro - Porcentaje de elitismo\n",
        "    number_of_generations,  # Hiperparametro - Numero de generaciones a evalyar\n",
        "    solutions_size, # Hipterparametro - Tamaño de la población\n",
        "\n",
        "    number_of_takes = 30, # Numero de tomas, depende del problema\n",
        "    max_takes_on_day = 6,  # Maximo numero de tomas por dia, depende del problema\n",
        "    cost_function = cost_function, # Función de coste\n",
        "    cross_over = cross_over, # Función de cruce\n",
        "    selection = selection, # Función de selección\n",
        "    generate_random_solutions = generate_random_solutions, # Función que genera soluciones aleatorias\n",
        "    mutation = mutation, # Función que muta los elementos de nuestra población\n",
        "  ): \n",
        "\n",
        "  solutions = generate_random_solutions(solutions_size, number_of_takes, max_takes_on_day)\n",
        "  \n",
        "  # obtenemos la mejor solucion de nuestra población\n",
        "  best_sol = min(solutions, key = lambda x:cost_function(x))\n",
        "  best_cost = cost_function(best_sol, actors_by_take)\n",
        "\n",
        "  # iteramos las generaciones\n",
        "  for generation in range(1,number_of_generations + 1):\n",
        "\n",
        "    # Cruzamos nuestra población\n",
        "    solutions = cross_over(solutions, max_takes_on_day)\n",
        "\n",
        "    # Evolucionamos nuestra poblacion\n",
        "    solutions = [mutation(x, max_takes_on_day) for x in solutions]\n",
        "\n",
        "    # Seleccionamos los mejores individuos\n",
        "    solutions = selection(solutions, solutions_size, elite_percent, cost_function=lambda x:cost_function(x, actors_by_take))\n",
        "\n",
        "    # obtenemos la mejor solucion de nuestra población\n",
        "    best_local_sol = min(solutions, key = lambda x:cost_function(x, actors_by_take))\n",
        "    best_local_cost = cost_function(best_local_sol, actors_by_take)\n",
        "\n",
        "    # si mejoramos la solucion, almacenamos\n",
        "    if best_local_cost < best_cost:\n",
        "      best_cost = best_local_cost\n",
        "      best_sol = best_local_sol\n",
        "\n",
        "  return best_sol, best_cost"
      ],
      "execution_count": 40,
      "outputs": []
    },
    {
      "cell_type": "code",
      "metadata": {
        "id": "quSXwceEqZ3V"
      },
      "source": [
        "# Tuneamos los hiperparametros para ver como nos va con diferentes pruebas. Lo volvemos una función para usarlo despues\n",
        "\n",
        "def print_tunning_test(actors_by_take, generations, elite_percents, solutions_size):\n",
        "  results = []\n",
        "\n",
        "  for g in generations:\n",
        "    for e in elite_percents:\n",
        "      for s in solutions_size:\n",
        "        sol = genetic_algo(actors_by_take, e, g, s)\n",
        "        results.append({\n",
        "            'Generaciones': g,\n",
        "            'Elitismo': e,\n",
        "            'Tamaño población': s,\n",
        "            'Coste': sol[1],\n",
        "            'Solución': sol[0],\n",
        "        })\n",
        "\n",
        "  # Reordenamos las soluciones de mejor a peor\n",
        "  results.sort(key=lambda x:x['Coste'])\n",
        "\n",
        "  for result in results:\n",
        "    for key in result.keys():\n",
        "      print(f\"{key}: {result[key]}\")\n",
        "    print()"
      ],
      "execution_count": 41,
      "outputs": []
    },
    {
      "cell_type": "code",
      "metadata": {
        "colab": {
          "base_uri": "https://localhost:8080/"
        },
        "id": "pXBAiFWqn5cq",
        "outputId": "cde89c51-72d2-46de-804e-67f22e956845"
      },
      "source": [
        "generations = [100, 200]\n",
        "elite_percents = [60, 90]\n",
        "solution_sizes = [100, 2000]\n",
        "\n",
        "print_tunning_test(actors_by_take, generations, elite_percents, solutions_size)\n"
      ],
      "execution_count": null,
      "outputs": [
        {
          "output_type": "stream",
          "text": [
            "Generaciones: 200\n",
            "Elitismo: 90\n",
            "Tamaño población: 2000\n",
            "Coste: 31\n",
            "Solución: [{5, 7, 9, 11, 18, 25}, {0, 3, 10, 12, 16, 29}, {1, 4, 19, 21, 26, 27}, {2, 6, 8, 14, 15, 24}, {13, 17, 20, 22, 23, 28}]\n",
            "\n",
            "Generaciones: 100\n",
            "Elitismo: 60\n",
            "Tamaño población: 2000\n",
            "Coste: 32\n",
            "Solución: [{4, 20, 27, 11, 28, 13}, {2, 3, 9, 10, 14, 25}, {5, 8, 12, 19, 24, 26}, {7, 17, 18, 21, 23, 29}, {0, 1, 6, 15, 16, 22}]\n",
            "\n",
            "Generaciones: 100\n",
            "Elitismo: 90\n",
            "Tamaño población: 100\n",
            "Coste: 32\n",
            "Solución: [{17, 18, 19, 23, 28, 15}, {2, 3, 7, 9, 10, 25}, {0, 1, 12, 21, 22, 26}, {4, 14, 20, 24, 27, 29}, {5, 6, 8, 11, 13, 16}]\n",
            "\n",
            "Generaciones: 100\n",
            "Elitismo: 90\n",
            "Tamaño población: 2000\n",
            "Coste: 32\n",
            "Solución: [{2, 19, 25, 9, 11, 14}, {7, 10, 13, 16, 20, 22}, {0, 1, 6, 23, 26, 28}, {3, 4, 8, 15, 24, 27}, {5, 12, 17, 18, 21, 29}]\n",
            "\n",
            "Generaciones: 200\n",
            "Elitismo: 60\n",
            "Tamaño población: 2000\n",
            "Coste: 32\n",
            "Solución: [{17, 3, 20, 22, 23, 14}, {0, 1, 12, 16, 18, 21}, {2, 9, 15, 19, 24, 25}, {4, 6, 8, 10, 11, 13}, {5, 7, 26, 27, 28, 29}]\n",
            "\n",
            "Generaciones: 100\n",
            "Elitismo: 60\n",
            "Tamaño población: 100\n",
            "Coste: 33\n",
            "Solución: [{2, 9, 21, 23, 25, 26}, {0, 1, 8, 16, 19, 27}, {3, 4, 6, 12, 15, 24}, {7, 13, 14, 18, 22, 28}, {5, 10, 11, 17, 20, 29}]\n",
            "\n",
            "Generaciones: 200\n",
            "Elitismo: 60\n",
            "Tamaño población: 100\n",
            "Coste: 33\n",
            "Solución: [{20, 22, 25, 10, 28, 9}, {2, 5, 6, 12, 14, 16}, {3, 4, 8, 13, 17, 21}, {1, 15, 19, 23, 24, 27}, {0, 7, 11, 18, 26, 29}]\n",
            "\n",
            "Generaciones: 200\n",
            "Elitismo: 90\n",
            "Tamaño población: 100\n",
            "Coste: 33\n",
            "Solución: [{6, 15, 19, 22, 24, 26}, {2, 3, 4, 7, 14, 20}, {0, 12, 16, 23, 27, 28}, {1, 5, 18, 21, 25, 29}, {8, 9, 10, 11, 13, 17}]\n",
            "\n"
          ],
          "name": "stdout"
        }
      ]
    },
    {
      "cell_type": "markdown",
      "metadata": {
        "id": "eGDB4K6uk1iN"
      },
      "source": [
        "### Calcula la complejidad del algoritmo\n",
        "\n",
        "La complejidad de nuestro algoritmo para nuestro caso de estudio, es decir 30 tomas y 10 actores dependera del número de generaciones y del tamaño de la población. \n",
        "\n",
        "Nuestra iteración principal es el número de generaciones. Por cada generación se realizara la mutación, selección y cruce. En cada uno de estos procesos realizamos una iteración en toda la población y ya trabajamos sobre los valores. Las operaciones dadas dentro de nuestros auxiliares geneticos son indiferentes para nuestra dimensionalidad, es decir que podemos considerarlas como constantes multiplicativas.\n",
        "\n",
        "Al final terminaremos con la siguiente complejidad:\n",
        "\n",
        "```\n",
        "O(g,p) = g*p\n",
        "```\n",
        "Donde g es el número de generaciones y p el tamaño de la población\n",
        "\n",
        "Si consideramos el número de las tomas, es decir la dimensionalidad del problema, este tambien afectara a nuestro algoritmo y no podremos considerar las operaciones dadas en nuestros auxiliares geneticos como constantes multiplicativos. Vemos que la operación mas pesada que realizamos dentro de nuestros auxiliares es un sort, en la mutación. Este sort ordena los días en base al coste diario, en el peor de los casos podemos tener tantos dias como tomas. En los demás auxiliares,  solo se itera sobre el número de días. Es por esto que tomamos la complejidad del sort como la mas alta.\n",
        "\n",
        "\n",
        "```\n",
        "O(g,p) = g*p*nlogn\n",
        "```\n",
        "Donde g es el número de generaciones, p el tamaño de la población y n es el número de tomas.\n",
        "\n",
        "El número de actores no afectara a nuestra complejidad temporal debido al uso de bits en la función de coste.\n",
        "\n"
      ]
    },
    {
      "cell_type": "markdown",
      "metadata": {
        "id": "3M6QjTsSkmYe"
      },
      "source": [
        "### Según el problema (y tenga sentido), diseña un juego de datos de entrada aleatorios\n",
        "\n",
        "Crearemos un metodo que pueda generar entradas aleatorias para cualquier numero de tomas/actores."
      ]
    },
    {
      "cell_type": "code",
      "metadata": {
        "id": "sJ-N2etjkyWc"
      },
      "source": [
        "def generate_input(number_of_takes, number_of_actors):\n",
        "  # Necesitamos generar un array de enteros (Ver representación de datos)\n",
        "  # Nuestro numero sera aleatorio y debe ser entre 1 (se necesita al menos un actor por toma) y el máximo número que se ppuede representar\n",
        "  # con #actores bits (todos los actores son parte de la toma)\n",
        "  bits = ''.join(['1' for _x in range(0, number_of_actors)])\n",
        "  all_actors = int(bits, 2)\n",
        "\n",
        "  #### Solo para mostrar la representación de manéra menos abstracta:\n",
        "  input_arr = []\n",
        "  print(\"Actores:  12345678910\")\n",
        "  print(\"Tomas\")\n",
        "  for take_number in range(0, number_of_takes):\n",
        "    representation = random.randint(1,all_actors)\n",
        "    input_arr.append(representation)\n",
        "\n",
        "    string_rep = bin(representation).replace('0b','')\n",
        "    # agregamos 0's al comienzo para la representación (si es necesario)\n",
        "    string_rep += ''.join(['0' for _x in range(0, number_of_actors - len(string_rep))])\n",
        "    print(f\"Toma #{'0' if take_number + 1 < 10 else ''}{take_number + 1}: {string_rep}\")\n",
        "\n",
        "  print()\n",
        "  return input_arr"
      ],
      "execution_count": null,
      "outputs": []
    },
    {
      "cell_type": "code",
      "metadata": {
        "colab": {
          "base_uri": "https://localhost:8080/"
        },
        "id": "bMf030urhqw0",
        "outputId": "baa0040a-a7fb-44d1-b837-9bd0f432f654"
      },
      "source": [
        "# Generamos el input para 30 tomas y 10 actores\n",
        "input = generate_input(30, 10)\n",
        "print(input)"
      ],
      "execution_count": null,
      "outputs": [
        {
          "output_type": "stream",
          "text": [
            "Actores:  12345678910\n",
            "Tomas\n",
            "Toma #01: 1001100000\n",
            "Toma #02: 1001110110\n",
            "Toma #03: 1010111010\n",
            "Toma #04: 1111101000\n",
            "Toma #05: 1111001101\n",
            "Toma #06: 1101010000\n",
            "Toma #07: 1111101100\n",
            "Toma #08: 1011001000\n",
            "Toma #09: 1110111010\n",
            "Toma #10: 1000000000\n",
            "Toma #11: 1011010010\n",
            "Toma #12: 1100010010\n",
            "Toma #13: 1101101001\n",
            "Toma #14: 1111100000\n",
            "Toma #15: 1111001111\n",
            "Toma #16: 1100001001\n",
            "Toma #17: 1011010101\n",
            "Toma #18: 1010111110\n",
            "Toma #19: 1111001100\n",
            "Toma #20: 1101111100\n",
            "Toma #21: 1100011110\n",
            "Toma #22: 1101001011\n",
            "Toma #23: 1101100000\n",
            "Toma #24: 1100001010\n",
            "Toma #25: 1110001100\n",
            "Toma #26: 1000000000\n",
            "Toma #27: 1111001100\n",
            "Toma #28: 1100111101\n",
            "Toma #29: 1100110000\n",
            "Toma #30: 1000011110\n",
            "\n",
            "[38, 315, 698, 125, 973, 212, 502, 356, 954, 256, 361, 393, 873, 124, 975, 777, 725, 351, 972, 223, 798, 843, 216, 778, 227, 32, 972, 829, 51, 271]\n"
          ],
          "name": "stdout"
        }
      ]
    },
    {
      "cell_type": "markdown",
      "metadata": {
        "id": "zy5ZROmjlGo1"
      },
      "source": [
        "### Aplica el algoritmo al juego de datos generado"
      ]
    },
    {
      "cell_type": "code",
      "metadata": {
        "id": "Jkx8GeiYlUz1",
        "colab": {
          "base_uri": "https://localhost:8080/"
        },
        "outputId": "a2a0f656-8b8e-4f94-c7a1-cd65e94656f5"
      },
      "source": [
        "generations = [100, 200]\n",
        "elite_percents = [60, 90]\n",
        "solutions_size = [100, 2000]\n",
        "\n",
        "print_tunning_test(input, generations, elite_percents, solutions_size)"
      ],
      "execution_count": null,
      "outputs": [
        {
          "output_type": "stream",
          "text": [
            "Generaciones: 200\n",
            "Elitismo: 90\n",
            "Tamaño población: 2000\n",
            "Coste: 44\n",
            "Solución: [{20, 6, 8, 25, 27, 15}, {2, 5, 19, 22, 24, 28}, {4, 11, 14, 21, 23, 29}, {0, 1, 3, 7, 9, 17}, {10, 12, 13, 16, 18, 26}]\n",
            "\n",
            "Generaciones: 100\n",
            "Elitismo: 60\n",
            "Tamaño población: 2000\n",
            "Coste: 45\n",
            "Solución: [{4, 9, 11, 15, 18, 26}, {1, 2, 3, 5, 6, 7}, {8, 12, 14, 16, 21, 22}, {13, 17, 19, 24, 28, 29}, {0, 10, 20, 23, 25, 27}]\n",
            "\n",
            "Generaciones: 100\n",
            "Elitismo: 90\n",
            "Tamaño población: 2000\n",
            "Coste: 45\n",
            "Solución: [{0, 16, 2, 17, 4, 20}, {5, 6, 7, 19, 25, 28}, {11, 14, 18, 23, 26, 29}, {1, 3, 8, 21, 22, 24}, {9, 10, 12, 13, 15, 27}]\n",
            "\n",
            "Generaciones: 200\n",
            "Elitismo: 60\n",
            "Tamaño población: 2000\n",
            "Coste: 45\n",
            "Solución: [{6, 14, 18, 19, 20, 29}, {1, 15, 23, 25, 27, 28}, {4, 7, 9, 10, 11, 26}, {0, 2, 5, 8, 13, 22}, {3, 12, 16, 17, 21, 24}]\n",
            "\n",
            "Generaciones: 100\n",
            "Elitismo: 60\n",
            "Tamaño población: 100\n",
            "Coste: 46\n",
            "Solución: [{1, 10, 13, 15, 17, 27}, {0, 3, 5, 7, 24, 29}, {2, 6, 8, 12, 22, 28}, {9, 11, 14, 18, 21, 25}, {4, 16, 19, 20, 23, 26}]\n",
            "\n",
            "Generaciones: 100\n",
            "Elitismo: 90\n",
            "Tamaño población: 100\n",
            "Coste: 46\n",
            "Solución: [{7, 12, 14, 18, 21, 23}, {1, 4, 6, 16, 17, 29}, {0, 2, 8, 9, 22, 26}, {3, 5, 11, 19, 24, 28}, {10, 13, 15, 20, 25, 27}]\n",
            "\n",
            "Generaciones: 200\n",
            "Elitismo: 60\n",
            "Tamaño población: 100\n",
            "Coste: 46\n",
            "Solución: [{16, 4, 26, 11, 28, 15}, {8, 13, 14, 19, 24, 27}, {0, 2, 18, 6, 23, 25}, {1, 12, 17, 20, 21, 29}, {3, 5, 22, 7, 9, 10}]\n",
            "\n",
            "Generaciones: 200\n",
            "Elitismo: 90\n",
            "Tamaño población: 100\n",
            "Coste: 46\n",
            "Solución: [{4, 5, 9, 11, 16, 22}, {0, 12, 15, 24, 25, 26}, {2, 7, 8, 14, 17, 19}, {1, 6, 18, 20, 23, 29}, {3, 10, 13, 21, 27, 28}]\n",
            "\n"
          ],
          "name": "stdout"
        }
      ]
    },
    {
      "cell_type": "markdown",
      "metadata": {
        "id": "kAkDPUyRtYyH"
      },
      "source": [
        "## Como es posible avanzar en el estudio del problema?\n",
        "\n",
        "A continuación se presentan recomendaciones para avanzar con el estudio del problema:\n",
        "<li><strong>Diferentes tamaños del problema: </strong></li> La implementación de nuestros algoritmos se penso para poder ser aplicado a diferentes tamaños del problema. Es decir el número de tomas y el número de actores puede ser modificado para su aplicación. En este estudio solo se evaluo el algoritmo genetico en la dimensionalidad inicial (30 tomas y 10 actores). Se recomienda seguir aplicando el algoritmo en diferentes dimensionalidades para ver como se comporta.\n",
        "<li><strong>Mutación, Selección y Cruce: </strong></li>\n",
        "Se probarón heuristicas especificas para Mutación, Selección y Cruce. Para evaluar si es posible obtener un mejor desempeño, se puede hacer uso de nuestro algoritmo genetico, el cual acepta como parametros otras funciones para estos procesos.\n",
        "Para la función de <strong>Mutación</strong> estamos realizando agrupaciones al máximo numero de tomas por día. Podemos intentar diferentes agrupaciones, pese a que sabemos que la solución convergera en un maximo de tomas por cada día, el quitar esta heuristica puede ayudarmos a conocer otros espacios de solución. Para la <strong>selección</strong> estamos eligiendo la población de elite, y aumentando los demás miembros de manera aleatoria. Puede ser interesante la opción de probar un juego de ruleta, es decir, asignar probabilidad de selección a los demas individuos que no sean elite en base a su calidad como solución. Y por ultimo para la función de <strong>cruce</strong> se implemento tratando de combinar ambas soluciones y obtener un hijo. Se podría intentar obtener mas de un hijo a partir de estas combinaciones para ver si diversificamos nuestro espacio de solución.\n",
        "<li><strong>Tuneo de hiperparametros: </strong></li>\n",
        "El algoritmo genetico es capaz de recibir el porcentaje de elitismo, el número de generaciones y el tamaño de la población como hiperparametros. Se hicieron unas cuantas pruebas con estos hiperparametros para demostrar el algoritmo y la opción de ser tuneado. Se puede jugar con estos parametros para ver si encontramos mejores soluciones.\n",
        "<li><strong>Set de soluciones iniciales: </strong></li>\n",
        "Como se presento previamente, es posible asumir que nuestra solución optima toma 6 tomas por día, cada día. Podemos ver de iniciar solo con soluciones que tomen en cuenta este factor para ver si mejora neustros resultados. Se tomarón soluciones iniciales de diferentes tamaños en esta implementación ya que creo que puede ayudarnos en el proceso de diversificación, al menos con nuestra implementación actual de mutación y cruce, pero sería bueno probar esta hipotesis empiricamente."
      ]
    }
  ]
}