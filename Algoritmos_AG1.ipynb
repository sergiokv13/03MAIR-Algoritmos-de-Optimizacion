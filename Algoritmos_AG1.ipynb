{
  "nbformat": 4,
  "nbformat_minor": 0,
  "metadata": {
    "colab": {
      "name": "Algoritmos - AG1.ipynb",
      "provenance": [],
      "collapsed_sections": [],
      "authorship_tag": "ABX9TyP+jscrWPS8yiesVYO2OyKs",
      "include_colab_link": true
    },
    "kernelspec": {
      "name": "python3",
      "display_name": "Python 3"
    }
  },
  "cells": [
    {
      "cell_type": "markdown",
      "metadata": {
        "id": "view-in-github",
        "colab_type": "text"
      },
      "source": [
        "<a href=\"https://colab.research.google.com/github/sergiokv13/03MAIR-Algoritmos-de-Optimizacion/blob/master/Algoritmos_AG1.ipynb\" target=\"_parent\"><img src=\"https://colab.research.google.com/assets/colab-badge.svg\" alt=\"Open In Colab\"/></a>"
      ]
    },
    {
      "cell_type": "markdown",
      "metadata": {
        "id": "Stjb8skYUC0f"
      },
      "source": [
        "# Algoritmos de Optimizacion - Actividad Guiada 1\n",
        "\n",
        "<strong>Nombre:</strong> Sergio Andres Köller Vargas <br>\n",
        "<strong>URL:</strong> https://colab.research.google.com/drive/17UyOUSSqNPZn4e0dJ5AgVNVDdjBHW3E_?usp=sharing <br>\n",
        "<strong>Github:</strong> https://github.com/sergiokv13/03MAIR-Algoritmos-de-Optimizacion/blob/master/AG1/Algoritmos_AG1.ipynb"
      ]
    },
    {
      "cell_type": "code",
      "metadata": {
        "id": "0JcbHy4pAKxv"
      },
      "source": [
        "import math\n",
        "import random"
      ],
      "execution_count": 84,
      "outputs": []
    },
    {
      "cell_type": "markdown",
      "metadata": {
        "id": "S59LfuMVWNWA"
      },
      "source": [
        "## Torres de Hanoi con Divide y vencerás"
      ]
    },
    {
      "cell_type": "code",
      "metadata": {
        "colab": {
          "base_uri": "https://localhost:8080/"
        },
        "id": "4HxPwkUdUBph",
        "outputId": "1cb0d7d4-5bc0-41af-82bc-6c765b2dc444"
      },
      "source": [
        "def torres_de_hanoi(n, desde, hasta):\n",
        "  if n == 1:\n",
        "    print(f\"Lleva la ficha desde {desde} hasta {hasta}\")\n",
        "  else:\n",
        "    torres_de_hanoi(n-1, desde, 6 - desde - hasta)\n",
        "    print(f\"Lleva la ficha desde {desde} hasta {hasta}\")\n",
        "    torres_de_hanoi(n-1, 6 - desde - hasta, hasta)\n",
        "  \n",
        "torres_de_hanoi(3, 1, 3)\n"
      ],
      "execution_count": 85,
      "outputs": [
        {
          "output_type": "stream",
          "text": [
            "Lleva la ficha desde 1 hasta 3\n",
            "Lleva la ficha desde 1 hasta 2\n",
            "Lleva la ficha desde 3 hasta 2\n",
            "Lleva la ficha desde 1 hasta 3\n",
            "Lleva la ficha desde 2 hasta 1\n",
            "Lleva la ficha desde 2 hasta 3\n",
            "Lleva la ficha desde 1 hasta 3\n"
          ],
          "name": "stdout"
        }
      ]
    },
    {
      "cell_type": "markdown",
      "metadata": {
        "id": "fyinrGOrc1GY"
      },
      "source": [
        "## Devolución de cambio por técnica voraz"
      ]
    },
    {
      "cell_type": "code",
      "metadata": {
        "colab": {
          "base_uri": "https://localhost:8080/"
        },
        "id": "z8jCP0hWYR1n",
        "outputId": "886dc3c3-45eb-493b-86e6-cc9e6e3ea1e3"
      },
      "source": [
        "def cambio_monedas(c, sm):\n",
        "  solucion = [0] * len(sm) # solucion = [0, 0, 0, 0 ...]\n",
        "  valor_acumulado = 0\n",
        "\n",
        "  for i, m in enumerate(sm):\n",
        "    monedas = (c - valor_acumulado) // m\n",
        "    solucion[i] = monedas\n",
        "    valor_acumulado += monedas * m\n",
        "\n",
        "    if valor_acumulado == c:\n",
        "      return solucion\n",
        "\n",
        "cambio_monedas(15, [11, 5, 1])\n"
      ],
      "execution_count": 86,
      "outputs": [
        {
          "output_type": "execute_result",
          "data": {
            "text/plain": [
              "[1, 0, 4]"
            ]
          },
          "metadata": {
            "tags": []
          },
          "execution_count": 86
        }
      ]
    },
    {
      "cell_type": "markdown",
      "metadata": {
        "id": "QzbvtmwlpA5E"
      },
      "source": [
        "## N-Reinas por técnica de Backtrackingdef"
      ]
    },
    {
      "cell_type": "code",
      "metadata": {
        "colab": {
          "base_uri": "https://localhost:8080/"
        },
        "id": "jceFZkoapHpL",
        "outputId": "7ef5e6da-b30b-4ed7-a432-145ad7c51c88"
      },
      "source": [
        "def escribe(S):\n",
        "  n = len(S)\n",
        "  for x in range(n):\n",
        "    print(\"\")\n",
        "    for i in range(n):\n",
        "      if S[i] == x+1:\n",
        "        print(\" X \" , end=\"\")\n",
        "      else:\n",
        "        print(\" - \", end=\"\")\n",
        "\n",
        "def es_prometedora(solucion, etapa):\n",
        "  for i in range(etapa + 1):\n",
        "    if solucion.count(solucion[i]) > 1:\n",
        "      return False\n",
        "    for j in range(i+1, etapa + 1):\n",
        "      if abs(i - j) == abs(solucion[i] - solucion[j]):\n",
        "        return False\n",
        "  return True\n",
        "\n",
        "def reinas(n, solucion = [], etapa = 0):\n",
        "  if len(solucion) == 0:\n",
        "    solucion=[0 for i in range(n)]\n",
        "\n",
        "  for i in range(1, n+1):\n",
        "    solucion[etapa] = i\n",
        "\n",
        "    if es_prometedora(solucion, etapa):\n",
        "      if etapa == n - 1:\n",
        "        print();print()\n",
        "        print(solucion)\n",
        "        escribe(solucion)\n",
        "      else:\n",
        "        reinas(n, solucion, etapa + 1)\n",
        "  solucion[etapa] = 0\n",
        "  \n",
        "reinas(4)"
      ],
      "execution_count": 87,
      "outputs": [
        {
          "output_type": "stream",
          "text": [
            "\n",
            "\n",
            "[2, 4, 1, 3]\n",
            "\n",
            " -  -  X  - \n",
            " X  -  -  - \n",
            " -  -  -  X \n",
            " -  X  -  - \n",
            "\n",
            "[3, 1, 4, 2]\n",
            "\n",
            " -  X  -  - \n",
            " -  -  -  X \n",
            " X  -  -  - \n",
            " -  -  X  - "
          ],
          "name": "stdout"
        }
      ]
    },
    {
      "cell_type": "markdown",
      "metadata": {
        "id": "wZ_7t0o8umWE"
      },
      "source": [
        "## Encontrar los dos puntos mas cercanos"
      ]
    },
    {
      "cell_type": "code",
      "metadata": {
        "colab": {
          "base_uri": "https://localhost:8080/"
        },
        "id": "_UMU8WcPupw2",
        "outputId": "3fc90529-4f8e-43e7-fbbd-96adabc1e503"
      },
      "source": [
        "get_dist_1d = lambda p1,p2:abs(p1 - p2)\n",
        "get_dist_2d = lambda p1,p2:math.sqrt((p1[0] - p2[0]) ** 2 + (p1[1] - p2[1]) ** 2)\n",
        "get_dist_3d = lambda p1,p2:math.sqrt((p1[0] - p2[0]) ** 2 + (p1[1] - p2[1]) ** 2 + (p1[2] - p2[2]) ** 2)\n",
        "\n",
        "# Fuerza bruta para n dimensiones\n",
        "def encontrar_puntos_fuerza_bruta(arr, get_dist):\n",
        "  dist_min = float(\"inf\")\n",
        "  res = (-1, -1)\n",
        "  for idx, pto in enumerate(arr):\n",
        "    for idx2, pto2 in enumerate(arr):\n",
        "      if idx != idx2:\n",
        "        curr_dist = get_dist(pto, pto2)\n",
        "        if curr_dist < dist_min:\n",
        "          res = (pto, pto2)\n",
        "          dist_min = curr_dist\n",
        "  \n",
        "  return res\n",
        "\n",
        "# 1d\n",
        "print(encontrar_puntos_fuerza_bruta([1,3,5,7,9,10], get_dist_1d))\n",
        "# 2d\n",
        "print(encontrar_puntos_fuerza_bruta([(1,2),(4,5),(3,6),(10,11)], get_dist_2d))\n",
        "# 3d\n",
        "print(encontrar_puntos_fuerza_bruta([(1,2,2),(4,5,5),(3,6,2),(10,11,5)], get_dist_3d))"
      ],
      "execution_count": 88,
      "outputs": [
        {
          "output_type": "stream",
          "text": [
            "(9, 10)\n",
            "((4, 5), (3, 6))\n",
            "((4, 5, 5), (3, 6, 2))\n"
          ],
          "name": "stdout"
        }
      ]
    },
    {
      "cell_type": "markdown",
      "metadata": {
        "id": "QT_uJSP_2CZn"
      },
      "source": [
        "La complejidad de la anterior solución es de O(nˆ2). Esta deberia poder ser mejorada si ordenamos los puntos previamente. Este ordenamiento solo funcionara en el problema de una dimensión ya que el orden en mas dimensiones solo puede ser realizado en un solo eje. Este enfoque podria ser un \"divide y vencerás\" ya que primero realizamos el ordenamiento, y despues encontramos la distancia menor.\n",
        "\n",
        "Esta complejidad es de O(nlogn)\n"
      ]
    },
    {
      "cell_type": "code",
      "metadata": {
        "colab": {
          "base_uri": "https://localhost:8080/"
        },
        "id": "6Y-DFA-Nvrns",
        "outputId": "9b3dd28c-d8c0-4395-f27f-7b7bf8a06689"
      },
      "source": [
        "def encontrar_puntos_1d(arr):\n",
        "  arr.sort()\n",
        "  dist_min = float(\"inf\")\n",
        "  res = (-1, -1)\n",
        "  for idx in range(1, len(arr)):\n",
        "    curr_dist = abs(arr[idx - 1] - arr[idx])\n",
        "    if curr_dist < dist_min:\n",
        "      res = (arr[idx-1], arr[idx])\n",
        "      dist_min = curr_dist\n",
        "  return res\n",
        "\n",
        "encontrar_puntos_1d([1,3,5,7,9,10])\n"
      ],
      "execution_count": 89,
      "outputs": [
        {
          "output_type": "execute_result",
          "data": {
            "text/plain": [
              "(9, 10)"
            ]
          },
          "metadata": {
            "tags": []
          },
          "execution_count": 89
        }
      ]
    },
    {
      "cell_type": "markdown",
      "metadata": {
        "id": "X7DLBM-323Ie"
      },
      "source": [
        "Este enfoque no nos servira para aumentar la dimensionalidad, es por esto que implementaremos un nuevo algoritmo. El siguiente algoritmo es el Closest Pair Of Points usando divide y vencerás.\n",
        "\n",
        "El siguiente algoritmo tiene una complejidad de O(nlogn).\n",
        "\n",
        "https://www.geeksforgeeks.org/closest-pair-of-points-onlogn-implementation/"
      ]
    },
    {
      "cell_type": "code",
      "metadata": {
        "colab": {
          "base_uri": "https://localhost:8080/"
        },
        "id": "XhSCtCZAZu-1",
        "outputId": "b790db5d-1b79-40eb-c33b-8fabeba43092"
      },
      "source": [
        "def strip_closest_2d(strip, size, d, d_points): \n",
        "  min_val = d\n",
        "  min_points = d_points\n",
        "\n",
        "  for i in range(size): \n",
        "    j = i + 1\n",
        "    while j < size and (strip[j][1] - strip[i][1]) < min_val: \n",
        "      min_val = get_dist_2d(strip[i], strip[j]) \n",
        "      min_points = (strip[i], strip[j])\n",
        "      j += 1\n",
        "\n",
        "  return min_points, min_val\n",
        "\n",
        "def encontrar_puntos_div_y_ven_rec_2d(p, q, n):\n",
        "  if n <= 3:\n",
        "    return encontrar_puntos_fuerza_bruta(p, get_dist_2d)\n",
        "\n",
        "  mid = n // 2\n",
        "  mid_point = p[mid] \n",
        "\n",
        "  dl_points = encontrar_puntos_div_y_ven_rec_2d(p[:mid], q, mid) \n",
        "  dr_points = encontrar_puntos_div_y_ven_rec_2d(p[mid:], q, n - mid)\n",
        "\n",
        "  dl = get_dist_2d(dl_points[0], dl_points[1])\n",
        "  dr = get_dist_2d(dl_points[0], dl_points[1])\n",
        "\n",
        "  d = min(dl, dr) \n",
        "  d_points = dl_points if dl == d else dr_points\n",
        "\n",
        "  strip = []  \n",
        "  for i in range(n):  \n",
        "    if abs(q[i][0] - mid_point[0]) < d:  \n",
        "      strip.append(q[i]) \n",
        "\n",
        "  min_points, min_val = strip_closest_2d(strip, len(strip), d, d_points) \n",
        "\n",
        "  if min_val < d:\n",
        "    return min_points\n",
        "  else:\n",
        "    return d_points  \n",
        " \n",
        "def encontrar_puntos_div_y_ven_2d(arr):\n",
        "  sorted_x = sorted(arr, key=lambda point: point[0])\n",
        "  sorted_y = sorted(arr, key=lambda point: point[1])\n",
        "\n",
        "  return encontrar_puntos_div_y_ven_rec_2d(sorted_x, sorted_y, len(arr))\n",
        "\n",
        "print(encontrar_puntos_div_y_ven_2d([(1,2),(4,5),(3,6),(10,11)]))"
      ],
      "execution_count": 90,
      "outputs": [
        {
          "output_type": "stream",
          "text": [
            "((4, 5), (3, 6))\n"
          ],
          "name": "stdout"
        }
      ]
    },
    {
      "cell_type": "markdown",
      "metadata": {
        "id": "4q9Lp1IVm8ne"
      },
      "source": [
        "Podemos ver que obtuvimos los mismos resultados que con nuestro algoritmo fuerza bruta. Ahora vamos a agregar una dimensión al enfoque previo."
      ]
    },
    {
      "cell_type": "code",
      "metadata": {
        "colab": {
          "base_uri": "https://localhost:8080/"
        },
        "id": "rov8P46GyLOX",
        "outputId": "e41ece96-50f9-4477-c505-a576e8f80b78"
      },
      "source": [
        "def strip_closest_3d(strip, size, d, d_points, index): \n",
        "  min_val = d\n",
        "  min_points = d_points\n",
        "\n",
        "  for i in range(size): \n",
        "    j = i + 1\n",
        "    while j < size and (strip[j][index] - strip[i][index]) < min_val: \n",
        "      min_val = get_dist_3d(strip[i], strip[j]) \n",
        "      min_points = (strip[i], strip[j])\n",
        "      j += 1\n",
        "\n",
        "  return min_points, min_val\n",
        "\n",
        "def encontrar_puntos_div_y_ven_rec_3d(p, q, w, n):\n",
        "  if n <= 3:\n",
        "    return encontrar_puntos_fuerza_bruta(p, get_dist_3d)\n",
        "\n",
        "  mid = n // 2\n",
        "  mid_point = p[mid] \n",
        "\n",
        "  dl_points = encontrar_puntos_div_y_ven_rec_3d(p[:mid], q, w, mid) \n",
        "  dr_points = encontrar_puntos_div_y_ven_rec_3d(p[mid:], q, w, n - mid)\n",
        "\n",
        "  dl = get_dist_3d(dl_points[0], dl_points[1])\n",
        "  dr = get_dist_3d(dl_points[0], dl_points[1])\n",
        "\n",
        "  d = min(dl, dr) \n",
        "  d_points = dl_points if dl == d else dr_points\n",
        "\n",
        "  strip_y = []  \n",
        "  for i in range(n):  \n",
        "    if abs(q[i][0] - mid_point[0]) < d:  \n",
        "      strip_y.append(q[i]) \n",
        "    \n",
        "  strip_z = []  \n",
        "  for i in range(n):  \n",
        "    if abs(w[i][0] - mid_point[0]) < d:  \n",
        "      strip_z.append(w[i]) \n",
        "\n",
        "  # enviando el indice para saber como se hara el strip\n",
        "  min_points_y, min_val_y = strip_closest_3d(strip_y, len(strip_y), d, d_points, 1) \n",
        "  min_points_z, min_val_z = strip_closest_3d(strip_z, len(strip_z), d, d_points, 2) \n",
        "  \n",
        "  min_val = min([d, min_val_y, min_val_z])\n",
        "  if min_val == d:\n",
        "    return d_points\n",
        "  if min_val == min_val_y:\n",
        "    return min_points_y\n",
        "  if min_val == min_val_z:\n",
        "    return min_points_z\n",
        " \n",
        "def encontrar_puntos_div_y_ven_3d(arr):\n",
        "  sorted_x = sorted(arr, key=lambda point: point[0])\n",
        "  sorted_y = sorted(arr, key=lambda point: point[1])\n",
        "  sorted_z = sorted(arr, key=lambda point: point[2])\n",
        "\n",
        "  return encontrar_puntos_div_y_ven_rec_3d(sorted_x, sorted_y, sorted_z, len(arr))\n",
        "\n",
        "print(encontrar_puntos_div_y_ven_3d([(1,2,2),(4,5,5),(3,6,2),(10,11,5)]))"
      ],
      "execution_count": 91,
      "outputs": [
        {
          "output_type": "stream",
          "text": [
            "((4, 5, 5), (3, 6, 2))\n"
          ],
          "name": "stdout"
        }
      ]
    },
    {
      "cell_type": "markdown",
      "metadata": {
        "id": "Ekq46FRW1akn"
      },
      "source": [
        "Al igual que en el anterior punto, tambien logramos obtener el mismo resultado que en el algoritmo de fuerza bruta.\n",
        "\n",
        "#### Prueba con datos generados aleatoriamente"
      ]
    },
    {
      "cell_type": "code",
      "metadata": {
        "colab": {
          "base_uri": "https://localhost:8080/"
        },
        "id": "Z4uUIKKclnLT",
        "outputId": "137918c6-2b0d-4f96-ef67-9038291c72cc"
      },
      "source": [
        "lista_1d = [random.randrange(1,10000) for x in range(1000)]\n",
        "lista_2d = [(random.randrange(1,10000), random.randrange(1,10000)) for x in range(1000)]\n",
        "lista_3d = [(random.randrange(1,10000), random.randrange(1,10000), random.randrange(1,10000)) for x in range(1000)]\n",
        "\n",
        "fb1d = encontrar_puntos_fuerza_bruta(lista_1d, get_dist_1d)\n",
        "algo1d = encontrar_puntos_1d(lista_1d)\n",
        "print(f\"1d O(n**2): {algo1d} con distancia {get_dist_1d(*algo1d)}\")\n",
        "algo2d = encontrar_puntos_div_y_ven_2d(lista_2d)\n",
        "print(f\"2d O(n**2): {algo2d} con distancia {get_dist_2d(*algo2d)}\")\n",
        "algo3d = encontrar_puntos_div_y_ven_3d(lista_3d)\n",
        "print(f\"2d O(n**2): {algo3d} con distancia {get_dist_3d(*algo3d)}\")\n"
      ],
      "execution_count": 93,
      "outputs": [
        {
          "output_type": "stream",
          "text": [
            "1d O(n**2): (75, 75) con distancia 0\n",
            "2d O(n**2): ((1164, 2612), (1133, 2629)) con distancia 35.35533905932738\n",
            "2d O(n**2): ((1, 7907, 3610), (2, 7947, 3582)) con distancia 48.83646178829912\n"
          ],
          "name": "stdout"
        }
      ]
    }
  ]
}