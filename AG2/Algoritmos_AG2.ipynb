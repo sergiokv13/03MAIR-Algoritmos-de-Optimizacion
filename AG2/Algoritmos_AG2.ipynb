{
  "nbformat": 4,
  "nbformat_minor": 0,
  "metadata": {
    "colab": {
      "name": "Algoritmos - AG2.ipynb",
      "provenance": [],
      "collapsed_sections": [],
      "authorship_tag": "ABX9TyMljyCJ9xD4Bbr5jMUuFisp",
      "include_colab_link": true
    },
    "kernelspec": {
      "name": "python3",
      "display_name": "Python 3"
    }
  },
  "cells": [
    {
      "cell_type": "markdown",
      "metadata": {
        "id": "view-in-github",
        "colab_type": "text"
      },
      "source": [
        "<a href=\"https://colab.research.google.com/github/sergiokv13/03MAIR-Algoritmos-de-Optimizacion/blob/master/Algoritmos_AG2.ipynb\" target=\"_parent\"><img src=\"https://colab.research.google.com/assets/colab-badge.svg\" alt=\"Open In Colab\"/></a>"
      ]
    },
    {
      "cell_type": "markdown",
      "metadata": {
        "id": "PMEtU52XSkeW"
      },
      "source": [
        "# Algoritmos de Optimizacion - Actividad Guiada 2\n",
        "\n",
        "<strong>Nombre:</strong> Sergio Andres Köller Vargas <br>\n",
        "<strong>URL:</strong> https://colab.research.google.com/drive/13bzJ8-4eTdDYm8Di-eLIqNAfwm8tFphg?usp=sharing <br>\n",
        "<strong>Github:</strong> https://github.com/sergiokv13/03MAIR-Algoritmos-de-Optimizacion/blob/master/AG1/Algoritmos_AG2.ipynb"
      ]
    },
    {
      "cell_type": "code",
      "metadata": {
        "id": "jGETM8iCTSAp"
      },
      "source": [
        "import math\n",
        "import itertools\n",
        "import matplotlib.pyplot as plt\n",
        "import numpy as np\n",
        "import random\n",
        "from time import time"
      ],
      "execution_count": 34,
      "outputs": []
    },
    {
      "cell_type": "markdown",
      "metadata": {
        "id": "hb-umOpYX94v"
      },
      "source": [
        "## Viaje por el rio"
      ]
    },
    {
      "cell_type": "code",
      "metadata": {
        "id": "LvwcnF6ZX7rS"
      },
      "source": [
        "tarifas = [\n",
        "  [0,5,4,3,999,999,999], # desde nodo 0\n",
        "  [999,0,999,2,3,999,11], # desde nodo 1\n",
        "  [999,999,0,1,999,4,10],\n",
        "  [999,999,999,0,5,6,9],\n",
        "  [999,999,999,999,0,999,4],\n",
        "  [999,999,999,999,999,0,3],\n",
        "  [999,999,999,999,999,999,0]\n",
        "]"
      ],
      "execution_count": 35,
      "outputs": []
    },
    {
      "cell_type": "code",
      "metadata": {
        "colab": {
          "base_uri": "https://localhost:8080/"
        },
        "id": "hYVDnvDiY8fm",
        "outputId": "cde301d5-c14d-409a-8e83-1a0cd4020a44"
      },
      "source": [
        "def precios(tarifas):\n",
        "  # Numero de nodos\n",
        "  n = len(tarifas[0])\n",
        "\n",
        "  # Inicializacion de la tabla de precios\n",
        "  precios = [[9999] * n for i in [9999]*n]\n",
        "  ruta = [[\"\"]*n for i in [\"\"]*n]\n",
        "\n",
        "  for i in range(n-1):\n",
        "    for j in range(i+1, n):\n",
        "      local_min = tarifas[i][j]\n",
        "      ruta[i][j] = i\n",
        "\n",
        "      for k in range(i,j):\n",
        "        if precios[i][k] + tarifas[k][j] < local_min:\n",
        "          local_min = min(local_min, precios[i][k] + tarifas[k][j])\n",
        "          ruta[i][j] = k\n",
        "        precios[i][j] = local_min\n",
        "\n",
        "  return precios, ruta\n",
        "\n",
        "def calcular_ruta(ruta, desde, hasta):\n",
        "  if desde == hasta:\n",
        "    return desde\n",
        "  else:\n",
        "    return str(calcular_ruta(ruta, desde, ruta[desde][hasta])) + ',' + str(hasta)\n",
        "\n",
        "precios, ruta = precios(tarifas)\n",
        "\n",
        "print(f\"La ruta es: {calcular_ruta(ruta, 0, 6)}\")"
      ],
      "execution_count": 36,
      "outputs": [
        {
          "output_type": "stream",
          "text": [
            "La ruta es: 0,2,5,6\n"
          ],
          "name": "stdout"
        }
      ]
    },
    {
      "cell_type": "markdown",
      "metadata": {
        "id": "LdozBZG-gAwf"
      },
      "source": [
        "## Ramificación y poda"
      ]
    },
    {
      "cell_type": "code",
      "metadata": {
        "id": "bvNGj1cpgEvm"
      },
      "source": [
        "costes = [[11,12,18,40],\n",
        "          [14,15,13,22],\n",
        "          [11,17,19,23],\n",
        "          [17,14,20,28]]"
      ],
      "execution_count": 37,
      "outputs": []
    },
    {
      "cell_type": "code",
      "metadata": {
        "colab": {
          "base_uri": "https://localhost:8080/"
        },
        "id": "krQrVznfuGQf",
        "outputId": "6441a459-ae71-4116-f3ba-40c404d26283"
      },
      "source": [
        " def get_valor(s,costes):\n",
        "  valor = 0\n",
        "  for i in range(len(s)):\n",
        "    valor += costes[i][s[i]]\n",
        "  return valor\n",
        "\n",
        "# valor((0,1,2,3), costes)\n",
        "get_valor((0,1,2,3), costes)"
      ],
      "execution_count": 38,
      "outputs": [
        {
          "output_type": "execute_result",
          "data": {
            "text/plain": [
              "73"
            ]
          },
          "metadata": {
            "tags": []
          },
          "execution_count": 38
        }
      ]
    },
    {
      "cell_type": "markdown",
      "metadata": {
        "id": "U71WklD1cTR4"
      },
      "source": [
        "#### Solución Fuerza Bruta"
      ]
    },
    {
      "cell_type": "code",
      "metadata": {
        "id": "aH9uhfs1cXdx"
      },
      "source": [
        "def fuerza_bruta(costes):\n",
        "  mejor_val = 10e10\n",
        "  mejor_sol = ()\n",
        "\n",
        "  for s in list(itertools.permutations(range(len(costes)))):\n",
        "    valor_tmp = get_valor(s, costes)\n",
        "    if valor_tmp < mejor_val:\n",
        "      mejor_val = valor_tmp\n",
        "      mejor_sol = s\n",
        "\n",
        "  print(\"La mejor solución es : \", mejor_sol, \"con valor: \", mejor_val)"
      ],
      "execution_count": 39,
      "outputs": []
    },
    {
      "cell_type": "markdown",
      "metadata": {
        "id": "p96DRlmmjO1u"
      },
      "source": [
        "#### Solución Ramificación y Poda\n",
        "\n",
        "```\n",
        "# This is formatted as code\n",
        "```\n",
        "\n"
      ]
    },
    {
      "cell_type": "code",
      "metadata": {
        "id": "hM0S7FMiiu3B",
        "colab": {
          "base_uri": "https://localhost:8080/"
        },
        "outputId": "692aef2a-156b-4a80-b6d1-701f8536fd96"
      },
      "source": [
        "def ci(s, costes):\n",
        "  valor = get_valor(s, costes)\n",
        "\n",
        "  for i in range(len(s), len(costes)):\n",
        "    valor += min([ costes[j][i] for j in range(len(s), len(costes))])\n",
        "  return valor\n",
        "print(ci((0,1), costes))"
      ],
      "execution_count": 40,
      "outputs": [
        {
          "output_type": "stream",
          "text": [
            "68\n"
          ],
          "name": "stdout"
        }
      ]
    },
    {
      "cell_type": "code",
      "metadata": {
        "id": "B7CAce2hlGWk"
      },
      "source": [
        "def crear_hijos(nodo, n):\n",
        "  hijos = []\n",
        "  for i in range(n):\n",
        "    if i not in nodo:\n",
        "      hijos.append({'s': nodo + (i,)})\n",
        "  return hijos"
      ],
      "execution_count": 41,
      "outputs": []
    },
    {
      "cell_type": "code",
      "metadata": {
        "id": "_pROceN5liiN"
      },
      "source": [
        "def ramificacion_y_poda(costes):\n",
        "  dimension = len(costes)\n",
        "  mejor_sol = tuple(i for i in range(len(costes)))\n",
        "  cota_sup = get_valor(mejor_sol, costes)\n",
        "\n",
        "  nodos = []\n",
        "  nodos.append({'s': (), 'ci': ci((), costes)})\n",
        "\n",
        "  iteracion = 0\n",
        "  \n",
        "  while(len(nodos) > 0):\n",
        "    iteracion += 1\n",
        "    nodo_prometedor = min(nodos, key=lambda x:x['ci'])['s']\n",
        "\n",
        "    hijos = [{'s': x['s'], 'ci': ci(x['s'], costes) } for x in crear_hijos(nodo_prometedor, dimension)]\n",
        "\n",
        "    # si encontramos solucion con ci < cs y que sea final entonces es mejor solucion local\n",
        "    nodo_final = [x for x in hijos if len(x['s']) == dimension]\n",
        "    if (len(nodo_final) > 0):\n",
        "      if nodo_final[0]['ci'] < cota_sup:\n",
        "        cota_sup = nodo_final[0]['ci']\n",
        "        mejor_sol = nodo_final\n",
        "\n",
        "    # poda\n",
        "    hijos = [x for x in hijos  if x['ci'] < cota_sup]\n",
        "\n",
        "    nodos.extend(hijos)\n",
        "\n",
        "    # Eliminamos el nodo recientemente explorado (se podria tambien hacer con un pop)\n",
        "    nodos = [x for x in nodos if x[\"s\"] != nodo_prometedor]\n",
        "\n",
        "  print(\"La solución final es: \", mejor_sol, \" en \", iteracion , \"iteraciones para dimension: \", dimension)"
      ],
      "execution_count": 42,
      "outputs": []
    },
    {
      "cell_type": "code",
      "metadata": {
        "colab": {
          "base_uri": "https://localhost:8080/"
        },
        "id": "eBSkJhGHjBu6",
        "outputId": "81def98c-cd98-4e66-ae5b-63cd2961a93b"
      },
      "source": [
        "print(\"Ramificacion y poda\")\n",
        "ramificacion_y_poda(costes)\n",
        "print(\"Fuerza bruta\")\n",
        "fuerza_bruta(costes)"
      ],
      "execution_count": 43,
      "outputs": [
        {
          "output_type": "stream",
          "text": [
            "Ramificacion y poda\n",
            "La solución final es:  [{'s': (1, 2, 0, 3), 'ci': 64}]  en  10 iteraciones para dimension:  4\n",
            "Fuerza bruta\n",
            "La mejor solución es :  (0, 2, 3, 1) con valor:  61\n"
          ],
          "name": "stdout"
        }
      ]
    },
    {
      "cell_type": "markdown",
      "metadata": {
        "id": "tquSwiLtlX5t"
      },
      "source": [
        "## Descenso del gradiente"
      ]
    },
    {
      "cell_type": "code",
      "metadata": {
        "id": "ZrA0IdIJmDNS"
      },
      "source": [
        "def descenso_del_gradiente(f, df, it = 500):\n",
        "  # Preparado de datos para dibujar mapa de niveles de Z\n",
        "  resolucion = 100\n",
        "  rango = 2.5\n",
        "  X = np.linspace(-rango, rango, resolucion)\n",
        "  Y = np.linspace(-rango, rango, resolucion)\n",
        "  Z = np.zeros((resolucion, resolucion))\n",
        "  for ix, x in enumerate(X):\n",
        "    for iy, y in enumerate(Y):\n",
        "      Z[ix, iy] = f([x,y])\n",
        "\n",
        "  # pinta el mapa de niveles de z\n",
        "  plt.contourf(X,Y,Z, resolucion)\n",
        "  plt.colorbar()\n",
        "\n",
        "  # Generatmos un punto aleatorio\n",
        "  p = [random.uniform(-2,2), random.uniform(-2,2)]\n",
        "  plt.plot(p[0], p[1], \"o\", c=\"white\")\n",
        "\n",
        "  # tasa de aprendizaje\n",
        "  ta=.1\n",
        "  #iteraciones\n",
        "  for _ in range(it):\n",
        "    grad = df(p)\n",
        "    p[0], p[1] = p[0] - ta*grad[0], p[1] - ta*grad[1]\n",
        "    plt.plot(p[0],p[1],\"o\", c=\"red\")\n",
        "  \n",
        "  print(p)"
      ],
      "execution_count": 92,
      "outputs": []
    },
    {
      "cell_type": "code",
      "metadata": {
        "colab": {
          "base_uri": "https://localhost:8080/",
          "height": 282
        },
        "id": "xdY-gUlvpjJR",
        "outputId": "7b50e824-8869-427a-d1f5-8f86225e01ac"
      },
      "source": [
        "f = lambda x: x[0]**2 + x[1]**2  # Función\n",
        "df = lambda x:[2*x[0], 2*x[1]] # Gradiente\n",
        "\n",
        "descenso_del_gradiente(f,df)"
      ],
      "execution_count": 93,
      "outputs": [
        {
          "output_type": "stream",
          "text": [
            "[2.7903750001880842e-49, -6.648636029742883e-49]\n"
          ],
          "name": "stdout"
        },
        {
          "output_type": "display_data",
          "data": {
            "image/png": "[encoded data removed]",
            "text/plain": [
              "<Figure size 432x288 with 2 Axes>"
            ]
          },
          "metadata": {
            "tags": [],
            "needs_background": "light"
          }
        }
      ]
    },
    {
      "cell_type": "markdown",
      "metadata": {
        "id": "rq8-JUkZKUeN"
      },
      "source": [
        "### Tarea Ramificación y Poda\n",
        "\n",
        "1. La complejidad de nuestro algoritmo de fuerza bruta (Implementado previamente en el punto de ramificación y poda) es de n!, donde n es la cantidad de tareas/agentes que tenemos. Esto es debido a que estamos revisando todas las posibilidades de asignación de tareas.\n",
        "\n",
        "2. Verificación con matrices mas grandes para fuerza bruta y ramificación y poda. A partir de que punto dejan de ser opciones viables?"
      ]
    },
    {
      "cell_type": "code",
      "metadata": {
        "colab": {
          "base_uri": "https://localhost:8080/"
        },
        "id": "W-ZfP_-3KWWU",
        "outputId": "7f914625-da02-4d60-f34f-c6ab6373f363"
      },
      "source": [
        "# Matrices de prueba\n",
        "matrices_prueba = []\n",
        "for i in range(0, 20):\n",
        "  matrices_prueba.append(np.random.randint(0,100, (i,i)))\n",
        "\n",
        "# Prueba Fuerza bruta\n",
        "for i in range(0, 11):\n",
        "  start = time()\n",
        "  random_costes = matrices_prueba[i]\n",
        "  fuerza_bruta(random_costes)\n",
        "  end = time() - start\n",
        "  print(f\"Para una matriz de tamaño {i} el tiempo es: {end} \")"
      ],
      "execution_count": 55,
      "outputs": [
        {
          "output_type": "stream",
          "text": [
            "La mejor solución es :  () con valor:  0\n",
            "Para una matriz de tamaño 0 el tiempo es: 0.0008654594421386719 \n",
            "La mejor solución es :  (0,) con valor:  98\n",
            "Para una matriz de tamaño 1 el tiempo es: 0.0003159046173095703 \n",
            "La mejor solución es :  (0, 1) con valor:  75\n",
            "Para una matriz de tamaño 2 el tiempo es: 0.0003190040588378906 \n",
            "La mejor solución es :  (1, 2, 0) con valor:  81\n",
            "Para una matriz de tamaño 3 el tiempo es: 0.0003173351287841797 \n",
            "La mejor solución es :  (0, 3, 1, 2) con valor:  102\n",
            "Para una matriz de tamaño 4 el tiempo es: 0.00045871734619140625 \n",
            "La mejor solución es :  (0, 2, 3, 1, 4) con valor:  127\n",
            "Para una matriz de tamaño 5 el tiempo es: 0.0006263256072998047 \n",
            "La mejor solución es :  (0, 4, 2, 3, 5, 1) con valor:  151\n",
            "Para una matriz de tamaño 6 el tiempo es: 0.0025358200073242188 \n",
            "La mejor solución es :  (2, 1, 4, 6, 0, 3, 5) con valor:  134\n",
            "Para una matriz de tamaño 7 el tiempo es: 0.02222919464111328 \n",
            "La mejor solución es :  (2, 7, 6, 1, 3, 0, 4, 5) con valor:  119\n",
            "Para una matriz de tamaño 8 el tiempo es: 0.16669321060180664 \n",
            "La mejor solución es :  (8, 3, 6, 2, 1, 0, 4, 5, 7) con valor:  101\n",
            "Para una matriz de tamaño 9 el tiempo es: 1.6133344173431396 \n",
            "La mejor solución es :  (5, 3, 6, 0, 4, 8, 2, 7, 1, 9) con valor:  107\n",
            "Para una matriz de tamaño 10 el tiempo es: 17.634901523590088 \n"
          ],
          "name": "stdout"
        }
      ]
    },
    {
      "cell_type": "markdown",
      "metadata": {
        "id": "erQRe0wlM9lM"
      },
      "source": [
        "Se realizarón un par de pruebas notando el crecimiento de tiempo. Una matriz de tamaño 10 ya necesita un tiempo significativo de aproximadamente 17 segundos, lo cual corresponde a 3M de operaciones aproximadamente. El aumentarle una dimensión mas incrementaria el numero de operaciones a 39M aprox, lo cual requeriria mucho mas tiempo de computo y el mismo espacio de almacenamiento. Es interesante mencionar tambien que la sesión termino abruptamente por el exceso de uso de Ram al tratar de correr la matriz de tamaño 11. Realmente este algoritmo no es una opcion para dimensiones mayores a 10."
      ]
    },
    {
      "cell_type": "code",
      "metadata": {
        "colab": {
          "base_uri": "https://localhost:8080/"
        },
        "id": "HXZUaJqoLrdf",
        "outputId": "899281fd-1803-45c0-b54a-d8611ca6dda4"
      },
      "source": [
        "# Prueba Ramificación y Poda\n",
        "for i in range(0, 13):\n",
        "  start = time()\n",
        "  random_costes = matrices_prueba[i]\n",
        "  ramificacion_y_poda(random_costes)\n",
        "  end = time() - start\n",
        "  print(f\"Para una matriz de tamaño {i} el tiempo es: {end} \")"
      ],
      "execution_count": 56,
      "outputs": [
        {
          "output_type": "stream",
          "text": [
            "La solución final es:  ()  en  1 iteraciones para dimension:  0\n",
            "Para una matriz de tamaño 0 el tiempo es: 0.0009713172912597656 \n",
            "La solución final es:  (0,)  en  1 iteraciones para dimension:  1\n",
            "Para una matriz de tamaño 1 el tiempo es: 0.0013551712036132812 \n",
            "La solución final es:  (0, 1)  en  1 iteraciones para dimension:  2\n",
            "Para una matriz de tamaño 2 el tiempo es: 0.0010187625885009766 \n",
            "La solución final es:  [{'s': (1, 2, 0), 'ci': 81}]  en  6 iteraciones para dimension:  3\n",
            "Para una matriz de tamaño 3 el tiempo es: 0.0007016658782958984 \n",
            "La solución final es:  [{'s': (0, 3, 1, 2), 'ci': 102}]  en  34 iteraciones para dimension:  4\n",
            "Para una matriz de tamaño 4 el tiempo es: 0.0008461475372314453 \n",
            "La solución final es:  [{'s': (0, 2, 3, 1, 4), 'ci': 127}]  en  48 iteraciones para dimension:  5\n",
            "Para una matriz de tamaño 5 el tiempo es: 0.0015850067138671875 \n",
            "La solución final es:  [{'s': (0, 5, 2, 1, 3, 4), 'ci': 151}]  en  70 iteraciones para dimension:  6\n",
            "Para una matriz de tamaño 6 el tiempo es: 0.002519845962524414 \n",
            "La solución final es:  [{'s': (2, 1, 4, 3, 0, 6, 5), 'ci': 135}]  en  188 iteraciones para dimension:  7\n",
            "Para una matriz de tamaño 7 el tiempo es: 0.009070396423339844 \n",
            "La solución final es:  [{'s': (2, 7, 5, 6, 3, 0, 4, 1), 'ci': 137}]  en  2109 iteraciones para dimension:  8\n",
            "Para una matriz de tamaño 8 el tiempo es: 0.36232423782348633 \n",
            "La solución final es:  [{'s': (8, 3, 6, 2, 1, 0, 4, 5, 7), 'ci': 101}]  en  454 iteraciones para dimension:  9\n",
            "Para una matriz de tamaño 9 el tiempo es: 0.03891587257385254 \n",
            "La solución final es:  [{'s': (5, 3, 6, 0, 4, 8, 2, 7, 1, 9), 'ci': 107}]  en  648 iteraciones para dimension:  10\n",
            "Para una matriz de tamaño 10 el tiempo es: 0.0775146484375 \n",
            "La solución final es:  [{'s': (3, 10, 6, 5, 1, 4, 9, 2, 8, 0, 7), 'ci': 97}]  en  923 iteraciones para dimension:  11\n",
            "Para una matriz de tamaño 11 el tiempo es: 0.22648334503173828 \n",
            "La solución final es:  [{'s': (1, 6, 10, 5, 7, 4, 2, 9, 0, 3, 11, 8), 'ci': 108}]  en  19944 iteraciones para dimension:  12\n",
            "Para una matriz de tamaño 12 el tiempo es: 42.05296444892883 \n"
          ],
          "name": "stdout"
        }
      ]
    },
    {
      "cell_type": "markdown",
      "metadata": {
        "id": "mr0PdTWcQFu_"
      },
      "source": [
        "Al utilizar el algoritmo de ramificación y poda un par de veces(con diferentes matrices iniciales) se noto que una dimensión de 13 ya empieza a traernos problemas, logrando soluciones para una dimensión de 12 en aprox 44 segundos (varia dependiendo de la matriz de costes). Es interesante apreciar tambien que los tiempos estan muy ligados a las matrices de costes, pudiendo encontrar a veces soluciones mas rapido para dimensiones mayores. Fuera de no necesitar revisar todos los caminos igual es necesario revisar muchos de los hijos de nuestros nodos, lo cual incrementara la complejidad a medida que crece nuestra matriz de costes."
      ]
    },
    {
      "cell_type": "markdown",
      "metadata": {
        "id": "MyTpliYmRojX"
      },
      "source": [
        "### Tarea de descenso del gradiente"
      ]
    },
    {
      "cell_type": "code",
      "metadata": {
        "colab": {
          "base_uri": "https://localhost:8080/",
          "height": 282
        },
        "id": "D8XyAtxcRo0X",
        "outputId": "3e4930a8-30d2-48ed-e3f5-544105a460a0"
      },
      "source": [
        "# Aproximación de la derivada en un  punto\n",
        "def df(f, punto):\n",
        "  h = 0.01\n",
        "  t = np.copy(punto)\n",
        "  grad = np.zeros(2)\n",
        "  for it, th in enumerate(punto):\n",
        "    t[it] = t[it] + h\n",
        "    grad[it] = (f(t) - f(punto)) / h\n",
        "  \n",
        "  return grad\n",
        "\n",
        "f = lambda x: np.sin(1/2 * x[0]**2 - 1/4*x[1]**2 + 3) * np.cos(2*x[0] + 1 - np.e**x[1])\n",
        "new_df = lambda x:df(f, x)\n",
        "\n",
        "descenso_del_gradiente(f, new_df,1000)"
      ],
      "execution_count": 110,
      "outputs": [
        {
          "output_type": "stream",
          "text": [
            "[2.221400683540284, 1.6205666433120083]\n"
          ],
          "name": "stdout"
        },
        {
          "output_type": "display_data",
          "data": {
            "image/png": "[encoded data removed]",
            "text/plain": [
              "<Figure size 432x288 with 2 Axes>"
            ]
          },
          "metadata": {
            "tags": [],
            "needs_background": "light"
          }
        }
      ]
    },
    {
      "cell_type": "markdown",
      "metadata": {
        "id": "upW6WY7mYU6G"
      },
      "source": [
        "Podemos ver que nuestro descenso se acerca a minimos locales."
      ]
    }
  ]
}
